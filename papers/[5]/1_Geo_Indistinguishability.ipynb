{
 "cells": [
  {
   "cell_type": "markdown",
   "metadata": {},
   "source": [
    "This is a Python code version of the original location-guard code in Java (https://github.com/chatziko/location-guard#location-guard)"
   ]
  },
  {
   "cell_type": "markdown",
   "metadata": {},
   "source": [
    "The Geo-Indistinguishability notion can be consulted in the original paper: Geo-Indistinguishability: Differential Privacy for Location-Based Systems (https://doi.org/10.1145/2508859.2516735). \n",
    "\n",
    "Arxived version: https://arxiv.org/abs/1212.1984"
   ]
  },
  {
   "cell_type": "markdown",
   "metadata": {},
   "source": [
    "## Geo-Indistinguishability"
   ]
  },
  {
   "cell_type": "code",
   "execution_count": 14,
   "metadata": {},
   "outputs": [],
   "source": [
    "#For the original code, please refer to: https://github.com/chatziko/location-guard/blob/master/src/js/common/laplace.js\n",
    "\n",
    "import numpy as np\n",
    "from mpmath import * #to import the Lambert W function (http://en.wikipedia.org/wiki/Lambert_W_function)\n",
    "\n",
    "earth_radius = 6378137\n",
    "\n",
    "# Converting Cartesian Coordinates (x,y) to degrees\n",
    "def getLatLon(x, y): \n",
    "    long_in_rad = x/earth_radius \n",
    "    lat_in_rad = 2*np.atan(np.exp(y/earth_radius))-(np.pi/2)\n",
    "    latitude = np.degrees(lat_in_rad)\n",
    "    longitude = np.degrees(long_in_rad)\n",
    "    return latitude, longitude\n",
    "\n",
    "# Convert degrees (latitude, longitude) to Cartesian\n",
    "def getCartesian(latitude, longitude): # ok\n",
    "    x = earth_radius*np.radians(longitude)\n",
    "    y = earth_radius*np.log(np.tan(np.pi/4+np.radians(latitude)/2))\n",
    "    return x, y             \n",
    "\n",
    "#This is the inverse cumulative polar laplacian distribution function. \n",
    "def inverseCumulativeGamma(epsilon, z): \n",
    "    x = (z-1)/np.e\n",
    "    return -(lambertw(x, k = -1)+1)/epsilon \n",
    "\n",
    "# http://movable-type.co.uk/scripts/latlong.html\n",
    "def addVectorToPos(latitude, longitude, distance, angle):\n",
    "    ang_distance = distance/earth_radius\n",
    "    #lat1, lon1 = getCartesian(latitude, longitude)\n",
    "    lat1 = np.radians(latitude)\n",
    "    lon1 = np.radians(longitude)\n",
    "    lat2 = np.arcsin(float(np.sin(float(lat1))*np.cos(float(ang_distance))+np.cos(float(lat1))*np.sin(float(ang_distance))*np.cos(float(angle))))\n",
    "    lon2 = lon1 + np.arctan2(\n",
    "        np.sin(float(angle))*np.sin(float(ang_distance))*np.cos(float(lat1)),\n",
    "        np.cos(float(ang_distance))-np.sin(float(lat1))*np.sin(float(lat2)))\n",
    "    lon2 = (lon2 + 3*np.pi)%(2*np.pi) - np.pi #normalization to -180,...,180\n",
    "    return np.degrees(lat2), np.degrees(lon2)#, distance, angle\n",
    "\n",
    "# Returns destination position given distance and angle from start position\n",
    "def addNoise(epsilon, latitude, longitude):\n",
    "    theta = np.random.random()*np.pi*2\n",
    "    z = np.random.random()\n",
    "    r = inverseCumulativeGamma(epsilon, z)\n",
    "    return addVectorToPos(latitude, longitude, r, theta)"
   ]
  },
  {
   "cell_type": "markdown",
   "metadata": {},
   "source": [
    "## Usage example"
   ]
  },
  {
   "cell_type": "code",
   "execution_count": 16,
   "metadata": {},
   "outputs": [
    {
     "data": {
      "text/plain": [
       "(-23.558872984176098, -46.644377150295846)"
      ]
     },
     "execution_count": 16,
     "metadata": {},
     "output_type": "execute_result"
    }
   ],
   "source": [
    "#for reproducibility\n",
    "np.random.seed(0)\n",
    "\n",
    "#coordinates of São Paulo city in brazil\n",
    "latitude, longitude = -23.554570187422183, -46.64289055544784\n",
    "\n",
    "#level of privacy\n",
    "l = 1\n",
    "\n",
    "#radius (in meters)\n",
    "radius = 200\n",
    "\n",
    "#privacy level\n",
    "epsilon = l/radius\n",
    "addNoise(epsilon, latitude, longitude)"
   ]
  },
  {
   "cell_type": "code",
   "execution_count": null,
   "metadata": {},
   "outputs": [],
   "source": []
  }
 ],
 "metadata": {
  "kernelspec": {
   "display_name": "Python [conda env:geo_env]",
   "language": "python",
   "name": "conda-env-geo_env-py"
  },
  "language_info": {
   "codemirror_mode": {
    "name": "ipython",
    "version": 3
   },
   "file_extension": ".py",
   "mimetype": "text/x-python",
   "name": "python",
   "nbconvert_exporter": "python",
   "pygments_lexer": "ipython3",
   "version": "3.9.4"
  }
 },
 "nbformat": 4,
 "nbformat_minor": 4
}
