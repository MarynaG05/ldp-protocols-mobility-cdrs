{
 "cells": [
  {
   "cell_type": "markdown",
   "metadata": {},
   "source": [
    "## Libraries"
   ]
  },
  {
   "cell_type": "code",
   "execution_count": 1,
   "metadata": {},
   "outputs": [],
   "source": [
    "import sympy as sym\n",
    "import numpy as np\n",
    "import pandas as pd\n",
    "from scipy import optimize\n",
    "\n",
    "import matplotlib.pyplot as plt\n",
    "import matplotlib\n",
    "params = {'axes.titlesize':'14',\n",
    "          'xtick.labelsize':'14',\n",
    "          'ytick.labelsize':'14',\n",
    "          'font.size':'14',\n",
    "          'legend.fontsize':'medium',\n",
    "          'lines.linewidth':'1.5',\n",
    "          'font.weight':'normal',\n",
    "          'lines.markersize':'8'\n",
    "          }\n",
    "matplotlib.rcParams.update(params)\n",
    "#plt.rcParams[\"mathtext.fontset\"] = \"cm\""
   ]
  },
  {
   "cell_type": "markdown",
   "metadata": {},
   "source": [
    "# LONGITUDINAL UNARY ENCODING PROTOCOLS"
   ]
  },
  {
   "attachments": {
    "image.png": {
     "image/png": "[encoded data removed]"
    }
   },
   "cell_type": "markdown",
   "metadata": {},
   "source": [
    "![image.png](attachment:image.png)"
   ]
  },
  {
   "cell_type": "markdown",
   "metadata": {},
   "source": [
    "## Calculus of $\\epsilon_1$"
   ]
  },
  {
   "cell_type": "code",
   "execution_count": 2,
   "metadata": {},
   "outputs": [
    {
     "data": {
      "text/latex": [
       "$\\displaystyle \\log{\\left(\\frac{\\left(p_{1} p_{2} - q_{2} \\left(p_{1} - 1\\right)\\right) \\left(p_{2} q_{1} - q_{2} \\left(q_{1} - 1\\right) - 1\\right)}{\\left(p_{2} q_{1} - q_{2} \\left(q_{1} - 1\\right)\\right) \\left(p_{1} p_{2} - q_{2} \\left(p_{1} - 1\\right) - 1\\right)} \\right)}$"
      ],
      "text/plain": [
       "log((p1*p2 - q2*(p1 - 1))*(p2*q1 - q2*(q1 - 1) - 1)/((p2*q1 - q2*(q1 - 1))*(p1*p2 - q2*(p1 - 1) - 1)))"
      ]
     },
     "metadata": {},
     "output_type": "display_data"
    }
   ],
   "source": [
    "p1 = sym.Symbol('p1')\n",
    "q1 = sym.Symbol('q1')\n",
    "\n",
    "p2 = sym.Symbol('p2')\n",
    "q2 = sym.Symbol('q2')\n",
    "\n",
    "#Pr[Bi'' = 1 | B_i = 1]\n",
    "p_star = p1 * p2 + (1 - p1) * q2\n",
    "\n",
    "#Pr[Bi'' = 1 | B_i = 0]\n",
    "q_star = q1 * p2 + (1 - q1) * q2\n",
    "\n",
    "e1 = sym.simplify(sym.log((p_star*(1-q_star))/(q_star*(1-p_star))))\n",
    "e1"
   ]
  },
  {
   "cell_type": "markdown",
   "metadata": {},
   "source": [
    "**log** will refer to **ln** throughout our analysis."
   ]
  },
  {
   "cell_type": "markdown",
   "metadata": {},
   "source": [
    "## Based on OUE and SUE protocols, we have four options on how to select p1, q1, p2, q2\n",
    "\n",
    "- both sanitizations with OUE (L-OUE);\n",
    "- both sanitizations with SUE (L-SUE);\n",
    "- starting with OUE and then with SUE (L-OSUE);\n",
    "- starting with SUE and then with OUE (L-SOUE);\n",
    "\n",
    "Without loss of generality, the following analyses are done only for L-OSUE, which can be extended to any of the other combinations. "
   ]
  },
  {
   "cell_type": "markdown",
   "metadata": {},
   "source": [
    "### Analytical study of $\\epsilon_1$ for L-OSUE"
   ]
  },
  {
   "cell_type": "code",
   "execution_count": 3,
   "metadata": {},
   "outputs": [
    {
     "data": {
      "text/latex": [
       "$\\displaystyle \\log{\\left(\\frac{- p_{2} e^{\\epsilon_{\\infty}} + p_{2} - 1}{p_{2} e^{\\epsilon_{\\infty}} - p_{2} - e^{\\epsilon_{\\infty}}} \\right)}$"
      ],
      "text/plain": [
       "log((-p2*exp(\\epsilon_{\\infty}) + p2 - 1)/(p2*exp(\\epsilon_{\\infty}) - p2 - exp(\\epsilon_{\\infty})))"
      ]
     },
     "execution_count": 3,
     "metadata": {},
     "output_type": "execute_result"
    }
   ],
   "source": [
    "eps_perm = sym.Symbol('\\epsilon_{\\infty}')\n",
    "eps_inst = sym.Symbol('\\epsilon_{1}')\n",
    "\n",
    "# OUE parameters\n",
    "p1 = 1/2\n",
    "q1 = 1/(sym.exp(eps_perm) + 1)\n",
    "\n",
    "# SUE parameters (p2+q2=1 , i.e., symmetric)\n",
    "p2 = sym.Symbol('p2')\n",
    "q2 = 1 - p2\n",
    "\n",
    "#Pr[Bi'' = 1 | B_i = 1]\n",
    "p_star = p1 * p2 + (1 - p1) * q2\n",
    "\n",
    "#Pr[Bi'' = 1 | B_i = 0]\n",
    "q_star = q1 * p2 + (1 - q1) * q2\n",
    "\n",
    "e1 = sym.simplify(sym.log((p_star*(1-q_star))/(q_star*(1-p_star))))\n",
    "e1"
   ]
  },
  {
   "cell_type": "markdown",
   "metadata": {},
   "source": [
    "Isolating and solving for p2 (in terms of $\\epsilon_{\\infty}$ and $\\epsilon_1$)"
   ]
  },
  {
   "cell_type": "code",
   "execution_count": 4,
   "metadata": {},
   "outputs": [
    {
     "data": {
      "text/latex": [
       "$\\displaystyle \\frac{1.0 - e^{\\epsilon_{1} + \\epsilon_{\\infty}}}{e^{\\epsilon_{1}} - e^{\\epsilon_{\\infty}} - e^{\\epsilon_{1} + \\epsilon_{\\infty}} + 1.0}$"
      ],
      "text/plain": [
       "(1.0 - exp(\\epsilon_{1} + \\epsilon_{\\infty}))/(exp(\\epsilon_{1}) - exp(\\epsilon_{\\infty}) - exp(\\epsilon_{1} + \\epsilon_{\\infty}) + 1.0)"
      ]
     },
     "execution_count": 4,
     "metadata": {},
     "output_type": "execute_result"
    }
   ],
   "source": [
    "p2 = sym.solve((p_star*(1-q_star))/(q_star*(1-p_star)) - sym.exp(eps_inst),p2)\n",
    "sym.simplify(p2[0])"
   ]
  },
  {
   "cell_type": "markdown",
   "metadata": {},
   "source": [
    "Validation: $e^{\\epsilon_1}$ == $e^{\\epsilon_1}$ ?"
   ]
  },
  {
   "cell_type": "code",
   "execution_count": 5,
   "metadata": {},
   "outputs": [
    {
     "data": {
      "text/latex": [
       "$\\displaystyle 1.0 e^{\\epsilon_{1}}$"
      ],
      "text/plain": [
       "1.0*exp(\\epsilon_{1})"
      ]
     },
     "execution_count": 5,
     "metadata": {},
     "output_type": "execute_result"
    }
   ],
   "source": [
    "eps_perm = sym.Symbol('\\epsilon_{\\infty}')\n",
    "eps_inst = sym.Symbol('\\epsilon_{1}')\n",
    "\n",
    "# OUE parameters\n",
    "p1 = 1/2\n",
    "q1 = 1/(sym.exp(eps_perm) + 1)\n",
    "\n",
    "# SUE parameters\n",
    "p2 = (1 - sym.exp(eps_inst + eps_perm)) / (sym.exp(eps_inst) - sym.exp(eps_perm) - sym.exp(eps_inst + eps_perm) +1)\n",
    "q2 = 1 - p2\n",
    "\n",
    "#Pr[Bi'' = 1 | B_i = 1]\n",
    "p_star = p1 * p2 + (1 - p1) * q2\n",
    "\n",
    "#Pr[Bi'' = 1 | B_i = 0]\n",
    "q_star = q1 * p2 + (1 - q1) * q2\n",
    "\n",
    "e1 = sym.simplify(p_star*(1-q_star))/(q_star*(1-p_star))\n",
    "sym.simplify(e1)"
   ]
  },
  {
   "cell_type": "markdown",
   "metadata": {},
   "source": [
    "### Numerical evaluation of e1"
   ]
  },
  {
   "cell_type": "code",
   "execution_count": 6,
   "metadata": {},
   "outputs": [
    {
     "data": {
      "text/plain": [
       "(1.3512000000000002, 1.3512)"
      ]
     },
     "execution_count": 6,
     "metadata": {},
     "output_type": "execute_result"
    }
   ],
   "source": [
    "# select upper and lower privacy parameters\n",
    "eps_perm = 2\n",
    "eps_inst = 1.3512\n",
    "\n",
    "p1 = 1/2\n",
    "q1 = 1/(np.exp(eps_perm) + 1)\n",
    "\n",
    "p2 = (1 - np.exp(eps_inst + eps_perm)) / (np.exp(eps_inst) - np.exp(eps_perm) - np.exp(eps_inst + eps_perm) +1)\n",
    "q2 = 1 - p2\n",
    "\n",
    "#Pr[Bi'' = 1 | B_i = 1]\n",
    "p_star = p1 * p2 + (1 - p1) * q2\n",
    "\n",
    "#Pr[Bi'' = 1 | B_i = 0]\n",
    "q_star = q1 * p2 + (1 - q1) * q2\n",
    "\n",
    "np.log((p_star*(1-q_star))/(q_star*(1-p_star))), eps_inst"
   ]
  },
  {
   "cell_type": "markdown",
   "metadata": {},
   "source": [
    "## Finding parameters for each combination of L-UE protocols"
   ]
  },
  {
   "cell_type": "markdown",
   "metadata": {},
   "source": [
    "### L-OUE"
   ]
  },
  {
   "cell_type": "code",
   "execution_count": 7,
   "metadata": {},
   "outputs": [
    {
     "name": "stdout",
     "output_type": "stream",
     "text": [
      "p1: 0.5 q1 0.2689414213699951 p2 0.5 q2 0.3609963508272085\n"
     ]
    },
    {
     "data": {
      "text/plain": [
       "True"
      ]
     },
     "execution_count": 7,
     "metadata": {},
     "output_type": "execute_result"
    }
   ],
   "source": [
    "# Privacy parameter (upper bound), i.e., infinity reports\n",
    "epsilon_tot = 1\n",
    "\n",
    "# Privacy parameter (lower bound), i.e., a single report\n",
    "eps_inst = round(0.13242 * epsilon_tot, 4)\n",
    "\n",
    "# OUE parameters\n",
    "p1 = 0.5\n",
    "q1 = 1 / (np.exp(epsilon_tot) + 1)\n",
    "\n",
    "# OUE parameters\n",
    "p2 = 0.5\n",
    "var_q2 = sym.Symbol('q2')\n",
    "\n",
    "# solving for symbol q2\n",
    "num = (p1*p2 - var_q2*(p1-1)) * (-p2*q1 + var_q2*(q1-1)+1)\n",
    "den = (p2*q1 - var_q2*(q1-1)) * (-p1*p2 + var_q2*(p1-1)+1)\n",
    "\n",
    "q2 = float(min(sym.solve(sym.simplify(num/den-np.exp(eps_inst)))))\n",
    "print('p1:',p1,'q1',q1,'p2',p2,'q2',q2)\n",
    "\n",
    "# numerical evaluation\n",
    "num = (p1*p2 - q2*(p1-1)) * (-p2*q1 + q2*(q1-1)+1)\n",
    "den = (p2*q1 - q2*(q1-1)) * (-p1*p2 + q2*(p1-1)+1)\n",
    "\n",
    "# validation\n",
    "round(np.log(num/den), 4) == eps_inst"
   ]
  },
  {
   "cell_type": "code",
   "execution_count": 8,
   "metadata": {},
   "outputs": [],
   "source": [
    "def param_L_OUE(eps_perm, eps_inst):\n",
    "    \n",
    "    \"\"\"Provides the flipping probabilities p1, q1, p2, q2 of using the L-OUE protocol.\n",
    "    input: upper (eps_perm) and lower (eps_inst) bound of the privacy parameter epsilon.\n",
    "    output: p1, q1, p2, q2\"\"\"\n",
    "    \n",
    "    # OUE parameters\n",
    "    p1 = 0.5\n",
    "    q1 = 1 / (np.exp(eps_perm) + 1)\n",
    "\n",
    "    # OUE parameters\n",
    "    p2 = 0.5\n",
    "    var_q2 = sym.Symbol('q2')\n",
    "    \n",
    "    # solving for symbol q2\n",
    "    num = (p1*p2 - var_q2*(p1-1)) * (-p2*q1 + var_q2*(q1-1)+1)\n",
    "    den = (p2*q1 - var_q2*(q1-1)) * (-p1*p2 + var_q2*(p1-1)+1)\n",
    "\n",
    "    q2 = float(min(sym.solve(sym.simplify(num/den-np.exp(eps_inst)))))\n",
    "    \n",
    "    # numerical evaluation\n",
    "    num = (p1*p2 - q2*(p1-1)) * (-p2*q1 + q2*(q1-1)+1)\n",
    "    den = (p2*q1 - q2*(q1-1)) * (-p1*p2 + q2*(p1-1)+1)\n",
    "\n",
    "    if round(np.log(num/den),4) == eps_inst:\n",
    "        if (np.array([p1, q1, p2, q2]) > 0).all():\n",
    "            return p1, q1, p2, q2\n",
    "        else: \n",
    "            raise ValueError('Probabilities are negative.')"
   ]
  },
  {
   "cell_type": "markdown",
   "metadata": {},
   "source": [
    "### L_OSUE"
   ]
  },
  {
   "cell_type": "code",
   "execution_count": 9,
   "metadata": {},
   "outputs": [
    {
     "name": "stdout",
     "output_type": "stream",
     "text": [
      "p1: 0.5 q1 0.1788291950694725 p2 0.6884484431998928 q2 0.31155155680010715\n"
     ]
    },
    {
     "data": {
      "text/plain": [
       "True"
      ]
     },
     "execution_count": 9,
     "metadata": {},
     "output_type": "execute_result"
    }
   ],
   "source": [
    "# Privacy parameter (upper bound), i.e., infinity reports\n",
    "epsilon_tot = 1.5243\n",
    "\n",
    "# Privacy parameter (lower bound), i.e., a single report\n",
    "eps_inst = round(0.3241 * epsilon_tot, 4)\n",
    "\n",
    "# OUE parameters\n",
    "p1 = 0.5\n",
    "q1 = 1 / (np.exp(epsilon_tot) + 1)\n",
    "\n",
    "# SUE parameters\n",
    "p2 = sym.Symbol('p2')\n",
    "q2 = 1 - p2\n",
    "\n",
    "# solving for symbol p2\n",
    "num = (p1*p2 - q2*(p1-1)) * (-p2*q1 + q2*(q1-1)+1)\n",
    "den = (p2*q1 - q2*(q1-1)) * (-p1*p2 + q2*(p1-1)+1)\n",
    "\n",
    "p2 = float(min(sym.solve(sym.simplify(num/den-np.exp(eps_inst)))))\n",
    "q2= 1- p2\n",
    "\n",
    "# numerical evaluation\n",
    "num = (p1*p2 - q2*(p1-1)) * (-p2*q1 + q2*(q1-1)+1)\n",
    "den = (p2*q1 - q2*(q1-1)) * (-p1*p2 + q2*(p1-1)+1)\n",
    "\n",
    "print('p1:',p1,'q1',q1,'p2',p2,'q2',q2)\n",
    "\n",
    "# validation\n",
    "round(np.log(num/den), 4) == eps_inst"
   ]
  },
  {
   "cell_type": "code",
   "execution_count": 10,
   "metadata": {},
   "outputs": [],
   "source": [
    "def param_L_OSUE(eps_perm,eps_inst):\n",
    "    \n",
    "    \"\"\"Provides the flipping probabilities p1, q1, p2, q2 of using the L-OSUE protocol.\n",
    "    input: upper (eps_perm) and lower (eps_inst) bound of the privacy parameter epsilon.\n",
    "    output: p1, q1, p2, q2\"\"\"\n",
    "    \n",
    "    # OUE parameters\n",
    "    p1 = 0.5\n",
    "    q1 = 1 / (np.exp(eps_perm) + 1)\n",
    "\n",
    "    # SUE parameters\n",
    "    p2 = sym.Symbol('p2')\n",
    "    q2 = 1 - p2\n",
    "    \n",
    "    # solving for symbol q2\n",
    "    num = (p1*p2 - q2*(p1-1)) * (-p2*q1 + q2*(q1-1)+1)\n",
    "    den = (p2*q1 - q2*(q1-1)) * (-p1*p2 + q2*(p1-1)+1)\n",
    "\n",
    "    p2 = float(min(sym.solve(sym.simplify(num/den-np.exp(eps_inst)))))\n",
    "    q2= 1- p2\n",
    "    \n",
    "    # numerical evaluation\n",
    "    num = (p1*p2 - q2*(p1-1)) * (-p2*q1 + q2*(q1-1)+1)\n",
    "    den = (p2*q1 - q2*(q1-1)) * (-p1*p2 + q2*(p1-1)+1)\n",
    "\n",
    "    if round(np.log(num/den), 4) == eps_inst:\n",
    "        if (np.array([p1, q1, p2, q2]) > 0).all():\n",
    "            return p1, q1, p2, q2\n",
    "        else: \n",
    "            raise ValueError('Probabilities are negative.')"
   ]
  },
  {
   "cell_type": "markdown",
   "metadata": {},
   "source": [
    "### L_SUE"
   ]
  },
  {
   "cell_type": "code",
   "execution_count": 11,
   "metadata": {},
   "outputs": [
    {
     "name": "stdout",
     "output_type": "stream",
     "text": [
      "p1: 0.7606051344021186 q1 0.23939486559788137 p2 0.6280657323371401 q2 0.37193426766285986\n"
     ]
    },
    {
     "data": {
      "text/plain": [
       "True"
      ]
     },
     "execution_count": 11,
     "metadata": {},
     "output_type": "execute_result"
    }
   ],
   "source": [
    "# Privacy parameter (upper bound), i.e., infinity reports\n",
    "epsilon_tot = 2.312\n",
    "\n",
    "# Privacy parameter (lower bound), i.e., a single report\n",
    "eps_inst = round(0.2323412 * epsilon_tot, 4)\n",
    "\n",
    "# SUE parameters\n",
    "p1 = np.exp(epsilon_tot/2) / (np.exp(epsilon_tot/2) + 1)\n",
    "q1 = 1 / (np.exp(epsilon_tot/2) + 1)\n",
    "\n",
    "# SUE parameters\n",
    "p2 = sym.Symbol('p2')\n",
    "q2 = 1 - p2\n",
    "\n",
    "# solving for symbol p2\n",
    "num = (p1*p2 - q2*(p1-1)) * (-p2*q1 + q2*(q1-1)+1)\n",
    "den = (p2*q1 - q2*(q1-1)) * (-p1*p2 + q2*(p1-1)+1)\n",
    "\n",
    "p2 = float(min(sym.solve(sym.simplify(num/den-np.exp(eps_inst)))))\n",
    "q2= 1- p2\n",
    "\n",
    "print('p1:',p1,'q1',q1,'p2',p2,'q2',q2)\n",
    "\n",
    "# numerical evaluation\n",
    "num = (p1*p2 - q2*(p1-1)) * (-p2*q1 + q2*(q1-1)+1)\n",
    "den = (p2*q1 - q2*(q1-1)) * (-p1*p2 + q2*(p1-1)+1)\n",
    "\n",
    "# validation\n",
    "round(np.log(num/den), 4) == eps_inst"
   ]
  },
  {
   "cell_type": "code",
   "execution_count": 12,
   "metadata": {},
   "outputs": [],
   "source": [
    "def param_L_SUE(eps_perm,eps_inst):\n",
    "    \n",
    "    \"\"\"Provides the flipping probabilities p1, q1, p2, q2 of using the L-SUE protocol.\n",
    "    input: upper (eps_perm) and lower (eps_inst) bound of the privacy parameter epsilon.\n",
    "    output: p1, q1, p2, q2\"\"\"\n",
    "    \n",
    "    # SUE parameters\n",
    "    p1 = np.exp(eps_perm/2) / (np.exp(eps_perm/2) + 1)\n",
    "    q1 = 1 - p1 #1 / (np.exp(eps_perm/2) + 1)\n",
    "    \n",
    "    # SUE parameters\n",
    "    p2 = sym.Symbol('p2')\n",
    "    q2 = 1 - p2\n",
    "\n",
    "    # solving for symbol p2\n",
    "    num = (p1*p2 - q2*(p1-1)) * (-p2*q1 + q2*(q1-1)+1)\n",
    "    den = (p2*q1 - q2*(q1-1)) * (-p1*p2 + q2*(p1-1)+1)\n",
    "\n",
    "    p2 = float(min(sym.solve(sym.simplify(num/den-np.exp(eps_inst)))))\n",
    "    q2= 1- p2\n",
    "\n",
    "    # numerical evaluation\n",
    "    num = (p1*p2 - q2*(p1-1)) * (-p2*q1 + q2*(q1-1)+1)\n",
    "    den = (p2*q1 - q2*(q1-1)) * (-p1*p2 + q2*(p1-1)+1)\n",
    "\n",
    "    if round(np.log(num/den),4) == eps_inst:\n",
    "        if (np.array([p1, q1, p2, q2]) > 0).all():\n",
    "            return p1, q1, p2, q2\n",
    "        else: \n",
    "            raise ValueError('Probabilities are negative.')"
   ]
  },
  {
   "cell_type": "markdown",
   "metadata": {},
   "source": [
    "## L_SOUE"
   ]
  },
  {
   "cell_type": "code",
   "execution_count": 13,
   "metadata": {},
   "outputs": [
    {
     "name": "stdout",
     "output_type": "stream",
     "text": [
      "p1: 0.5141712036316735 q1 0.48582879636832654 p2 0.5 q2 0.21340399073593833\n"
     ]
    },
    {
     "data": {
      "text/plain": [
       "True"
      ]
     },
     "execution_count": 13,
     "metadata": {},
     "output_type": "execute_result"
    }
   ],
   "source": [
    "# Privacy parameter (upper bound), i.e., infinity reports\n",
    "epsilon_tot = 0.1134\n",
    "\n",
    "# Privacy parameter (lower bound), i.e., a single report\n",
    "eps_inst = round(0.3124341 * epsilon_tot, 4)\n",
    "\n",
    "# SUE parameters\n",
    "p1 = np.exp(epsilon_tot/2) / (np.exp(epsilon_tot/2) + 1)\n",
    "q1 = 1 / (np.exp(epsilon_tot/2) + 1)\n",
    "\n",
    "# OUE parameters\n",
    "p2 = 1/2\n",
    "q2 = sym.Symbol('q2')\n",
    "\n",
    "# solving for symbol q2\n",
    "num = (p1*p2 - q2*(p1-1)) * (-p2*q1 + q2*(q1-1)+1)\n",
    "den = (p2*q1 - q2*(q1-1)) * (-p1*p2 + q2*(p1-1)+1)\n",
    "\n",
    "q2 = float(min(sym.solve(sym.simplify(num/den-np.exp(eps_inst)))))\n",
    "\n",
    "print('p1:',p1,'q1',q1,'p2',p2,'q2',q2)\n",
    "\n",
    "# numerical evaluation\n",
    "num = (p1*p2 - q2*(p1-1)) * (-p2*q1 + q2*(q1-1)+1)\n",
    "den = (p2*q1 - q2*(q1-1)) * (-p1*p2 + q2*(p1-1)+1)\n",
    "\n",
    "# validation\n",
    "round(np.log(num/den), 4) == eps_inst"
   ]
  },
  {
   "cell_type": "code",
   "execution_count": 14,
   "metadata": {},
   "outputs": [],
   "source": [
    "def param_L_SOUE(eps_perm, eps_inst):\n",
    "    \n",
    "    \"\"\"Provides the flipping probabilities p1, q1, p2, q2 of using the L-SOUE protocol.\n",
    "    input: upper (eps_perm) and lower (eps_inst) bound of the privacy parameter epsilon.\n",
    "    output: p1, q1, p2, q2\"\"\"\n",
    "    \n",
    "    # SUE parameters\n",
    "    p1 = np.exp(eps_perm/2) / (np.exp(eps_perm/2) + 1)\n",
    "    q1 = 1 - p1 # 1 / (np.exp(eps_perm/2) + 1)\n",
    "\n",
    "    # OUE parameters\n",
    "    p2 = 1/2\n",
    "    q2 = sym.Symbol('q2')\n",
    "\n",
    "    # solving for symbol q2\n",
    "    num = (p1*p2 - q2*(p1-1)) * (-p2*q1 + q2*(q1-1)+1)\n",
    "    den = (p2*q1 - q2*(q1-1)) * (-p1*p2 + q2*(p1-1)+1)\n",
    "\n",
    "    q2 = float(min(sym.solve(sym.simplify(num/den-np.exp(eps_inst)))))\n",
    "\n",
    "    # numerical evaluation\n",
    "    num = (p1*p2 - q2*(p1-1)) * (-p2*q1 + q2*(q1-1)+1)\n",
    "    den = (p2*q1 - q2*(q1-1)) * (-p1*p2 + q2*(p1-1)+1)\n",
    "\n",
    "    if round(np.log(num/den),4) == eps_inst:\n",
    "        if (np.array([p1, q1, p2, q2]) > 0).all():\n",
    "            return p1, q1, p2, q2\n",
    "        else: \n",
    "            print(p1, q1, p2, q2)\n",
    "            raise ValueError('Probabilities are negative.')"
   ]
  },
  {
   "cell_type": "markdown",
   "metadata": {},
   "source": [
    "# LONGITUDINAL GRR (L-GRR)"
   ]
  },
  {
   "attachments": {
    "image.png": {
     "image/png": "[encoded data removed]"
    }
   },
   "cell_type": "markdown",
   "metadata": {},
   "source": [
    "![image.png](attachment:image.png)"
   ]
  },
  {
   "cell_type": "markdown",
   "metadata": {},
   "source": [
    "## Calculus of $\\epsilon_1$"
   ]
  },
  {
   "cell_type": "code",
   "execution_count": 15,
   "metadata": {},
   "outputs": [
    {
     "data": {
      "text/latex": [
       "$\\displaystyle \\log{\\left(\\frac{p_{1} p_{2} + q_{1} q_{2}}{p_{1} q_{2} + p_{2} q_{1}} \\right)}$"
      ],
      "text/plain": [
       "log((p1*p2 + q1*q2)/(p1*q2 + p2*q1))"
      ]
     },
     "execution_count": 15,
     "metadata": {},
     "output_type": "execute_result"
    }
   ],
   "source": [
    "p1 = sym.Symbol('p1')\n",
    "p2 = sym.Symbol('p2')\n",
    "q1 = sym.Symbol('q1')\n",
    "q2 = sym.Symbol('q2')\n",
    "\n",
    "#Pr[B'' = vi | B = vi]\n",
    "ps = p1 * p2 + q1 * q2\n",
    "\n",
    "#Pr[B'' = vi | B != vi]\n",
    "qs = p1 * q2 + q1 * p2\n",
    "\n",
    "e1 = sym.log(ps/qs)\n",
    "e1"
   ]
  },
  {
   "cell_type": "markdown",
   "metadata": {},
   "source": [
    "### Analytical study of e1"
   ]
  },
  {
   "cell_type": "code",
   "execution_count": 16,
   "metadata": {},
   "outputs": [
    {
     "data": {
      "text/latex": [
       "$\\displaystyle \\frac{e^{\\epsilon_{1} + \\epsilon_{\\infty}} - 1}{- k e^{\\epsilon_{1}} + \\left(k - 1\\right) e^{\\epsilon_{\\infty}} + e^{\\epsilon_{1}} + e^{\\epsilon_{1} + \\epsilon_{\\infty}} - 1}$"
      ],
      "text/plain": [
       "(exp(\\epsilon_{1} + \\epsilon_{\\infty}) - 1)/(-k*exp(\\epsilon_{1}) + (k - 1)*exp(\\epsilon_{\\infty}) + exp(\\epsilon_{1}) + exp(\\epsilon_{1} + \\epsilon_{\\infty}) - 1)"
      ]
     },
     "execution_count": 16,
     "metadata": {},
     "output_type": "execute_result"
    }
   ],
   "source": [
    "# privacy guarantees\n",
    "eps_perm = sym.Symbol('\\epsilon_{\\infty}')\n",
    "eps_inst = sym.Symbol('\\epsilon_{1}')\n",
    "\n",
    "# domain size of attribute\n",
    "k = sym.Symbol('k')\n",
    "\n",
    "# GRR parameters\n",
    "p1 = sym.exp(eps_perm) / (sym.exp(eps_perm) + k - 1)\n",
    "q1 = (1 - p1) / (k - 1)\n",
    "\n",
    "# 1-order equation to find p2\n",
    "num = q1 - sym.exp(eps_inst) * p1\n",
    "den = (-p1 * sym.exp(eps_inst)) + k*q1*sym.exp(eps_inst) - q1*sym.exp(eps_inst) - p1*(k-1)+q1\n",
    "\n",
    "p2 = num/den\n",
    "q2 = (1 - p2) / (k-1)\n",
    "sym.simplify(p2)"
   ]
  },
  {
   "cell_type": "markdown",
   "metadata": {},
   "source": [
    "Validation: $e^{\\epsilon_1}$ == $e^{\\epsilon_1}$ ?"
   ]
  },
  {
   "cell_type": "code",
   "execution_count": 17,
   "metadata": {},
   "outputs": [
    {
     "data": {
      "text/latex": [
       "$\\displaystyle e^{\\epsilon_{1}}$"
      ],
      "text/plain": [
       "exp(\\epsilon_{1})"
      ]
     },
     "execution_count": 17,
     "metadata": {},
     "output_type": "execute_result"
    }
   ],
   "source": [
    "ps = p1 * p2 + q1 * q2\n",
    "qs = p1 * q2 + q1 * p2\n",
    "\n",
    "sym.simplify(ps/qs)"
   ]
  },
  {
   "cell_type": "markdown",
   "metadata": {},
   "source": [
    "### Numerical evaluation of e1"
   ]
  },
  {
   "cell_type": "code",
   "execution_count": 18,
   "metadata": {},
   "outputs": [
    {
     "data": {
      "text/plain": [
       "(0.3420999999999999, 0.3421)"
      ]
     },
     "execution_count": 18,
     "metadata": {},
     "output_type": "execute_result"
    }
   ],
   "source": [
    "# domain size\n",
    "k = 100\n",
    "\n",
    "# select upper and lower privacy parameters\n",
    "e_inf = 1\n",
    "e_1 = 0.3421\n",
    "\n",
    "# GRR parameters\n",
    "p1 = np.exp(e_inf) / (np.exp(e_inf) + k - 1)\n",
    "q1 = (1-p1)/(k-1)\n",
    "\n",
    "# GRR parameters\n",
    "p2 = (np.exp(e_inf + e_1) - 1) / (-k * np.exp(e_1) + (k-1)*np.exp(e_inf) + np.exp(e_1) + np.exp(e_inf + e_1) - 1)\n",
    "q2 = (1-p2)/(k-1)\n",
    "\n",
    "#Pr[B'' = vi | B = vi]\n",
    "ps = p1 * p2 + q1 * q2\n",
    "\n",
    "#Pr[B'' = vi | B != vi]\n",
    "qs = p1 * q2 + q1 * p2\n",
    "\n",
    "np.log(ps/qs), e_1"
   ]
  },
  {
   "cell_type": "markdown",
   "metadata": {},
   "source": [
    "## Finding parameters for L-GRR"
   ]
  },
  {
   "cell_type": "code",
   "execution_count": 19,
   "metadata": {},
   "outputs": [
    {
     "name": "stdout",
     "output_type": "stream",
     "text": [
      "p1: 0.057253169049096365 q1 0.049618254260573876 p2 0.08072943608850404 q2 0.04838266125849979\n"
     ]
    },
    {
     "data": {
      "text/plain": [
       "True"
      ]
     },
     "execution_count": 19,
     "metadata": {},
     "output_type": "execute_result"
    }
   ],
   "source": [
    "# Privacy parameter (upper bound), i.e., infinity reports\n",
    "epsilon_tot = 0.1431242\n",
    "\n",
    "# Privacy parameter (lower bound), i.e., a single report\n",
    "eps_inst = round(0.25 * epsilon_tot,4)\n",
    "\n",
    "k = 20\n",
    "\n",
    "# GRR parameters\n",
    "p1 = np.exp(epsilon_tot) / (np.exp(epsilon_tot) + k - 1)\n",
    "q1 = (1 - p1) / (k - 1)\n",
    "\n",
    "# GRR parameters\n",
    "num = q1 - np.exp(eps_inst) * p1\n",
    "den = (-p1 * np.exp(eps_inst)) + k*q1*np.exp(eps_inst) - q1*np.exp(eps_inst) - p1*(k-1)+q1\n",
    "\n",
    "p2 = num/den\n",
    "q2 = (1 - p2) / (k-1)\n",
    "\n",
    "print('p1:',p1,'q1',q1,'p2',p2,'q2',q2)\n",
    "\n",
    "ps = p1 * p2 + q1 * q2\n",
    "qs = p1 * q2 + q1 * p2\n",
    "\n",
    "# validation\n",
    "round(np.log(ps/qs),4) == eps_inst"
   ]
  },
  {
   "cell_type": "code",
   "execution_count": 20,
   "metadata": {},
   "outputs": [],
   "source": [
    "def param_L_GRR(eps_perm, eps_inst, k):\n",
    "    \n",
    "    \"\"\"Provides the flipping probabilities p1, q1, p2, q2 of using the L-GRR protocol.\n",
    "    input: upper (eps_perm) and lower (eps_inst) bound of the privacy parameter epsilon.\n",
    "    output: p1, q1, p2, q2\"\"\"\n",
    "    \n",
    "    # GRR parameters\n",
    "    p1 = np.exp(eps_perm) / (np.exp(eps_perm) + k - 1)\n",
    "    q1 = (1 - p1) / (k - 1)\n",
    "\n",
    "    # GRR parameters\n",
    "    num = q1 - np.exp(eps_inst) * p1\n",
    "    den = (-p1 * np.exp(eps_inst)) + k*q1*np.exp(eps_inst) - q1*np.exp(eps_inst) - p1*(k-1)+q1\n",
    "\n",
    "    p2 = num/den\n",
    "    q2 = (1 - p2) / (k-1)\n",
    "\n",
    "    num = p1 * p2 + q1 * q2\n",
    "    den = p1 * q2 + q1 * p2\n",
    "\n",
    "    if round(np.log(num/den), 4) == eps_inst:\n",
    "        if (np.array([p1, q1, p2, q2]) >= 0).all():\n",
    "            return p1, q1, p2, q2\n",
    "        else: \n",
    "            raise ValueError('Probabilities are negative.')"
   ]
  },
  {
   "cell_type": "code",
   "execution_count": null,
   "metadata": {},
   "outputs": [],
   "source": []
  },
  {
   "cell_type": "markdown",
   "metadata": {},
   "source": [
    "# Analysis of unbiased frequency estimation and variances"
   ]
  },
  {
   "cell_type": "markdown",
   "metadata": {},
   "source": [
    "## Estimator - Eq (9) in the paper"
   ]
  },
  {
   "cell_type": "code",
   "execution_count": 21,
   "metadata": {},
   "outputs": [
    {
     "name": "stdout",
     "output_type": "stream",
     "text": [
      "estimator:\n"
     ]
    },
    {
     "data": {
      "text/latex": [
       "$\\displaystyle \\frac{Ni - n q_{1} \\left(p_{2} - q_{2}\\right) - n q_{2}}{n \\left(p_{1} - q_{1}\\right) \\left(p_{2} - q_{2}\\right)}$"
      ],
      "text/plain": [
       "(Ni - n*q1*(p2 - q2) - n*q2)/(n*(p1 - q1)*(p2 - q2))"
      ]
     },
     "execution_count": 21,
     "metadata": {},
     "output_type": "execute_result"
    }
   ],
   "source": [
    "p1 = sym.Symbol('p1')\n",
    "p2 = sym.Symbol('p2')\n",
    "q1 = sym.Symbol('q1')\n",
    "q2 = sym.Symbol('q2')\n",
    "n = sym.Symbol('n')\n",
    "Ni = sym.Symbol('Ni')\n",
    "\n",
    "print('estimator:')\n",
    "f_L = sym.simplify((Ni-n*q2)/(p2-q2) - n*q1)/(n*(p1-q1))\n",
    "f_L"
   ]
  },
  {
   "cell_type": "markdown",
   "metadata": {},
   "source": [
    "## Expectation of the estimator in Eq (9)"
   ]
  },
  {
   "cell_type": "code",
   "execution_count": 22,
   "metadata": {},
   "outputs": [
    {
     "data": {
      "text/latex": [
       "$\\displaystyle f$"
      ],
      "text/plain": [
       "f"
      ]
     },
     "execution_count": 22,
     "metadata": {},
     "output_type": "execute_result"
    }
   ],
   "source": [
    "p1 = sym.Symbol('p1')\n",
    "p2 = sym.Symbol('p2')\n",
    "\n",
    "q1 = sym.Symbol('q1')\n",
    "q2 = sym.Symbol('q2')\n",
    "n = sym.Symbol('n')\n",
    "f = sym.Symbol('f')\n",
    "\n",
    "E_n = n*f*(p1*p2 + (1-p1)*q2) + (n - n*f) * (q1*p2 + (1-q1)*q2)\n",
    "E_tl = (E_n - n*q1*(p2 - q2) - n*q2) / (n*(p1 - q1) * (p2 - q2))\n",
    "sym.simplify(E_tl)"
   ]
  },
  {
   "cell_type": "markdown",
   "metadata": {},
   "source": [
    "The expected value converges to f(vi), i.e., unbiased estimation"
   ]
  },
  {
   "cell_type": "markdown",
   "metadata": {},
   "source": [
    "# Variance of the estimator in Eq (9)"
   ]
  },
  {
   "cell_type": "code",
   "execution_count": 23,
   "metadata": {},
   "outputs": [
    {
     "data": {
      "text/latex": [
       "$\\displaystyle \\frac{\\left(p_{2} q_{1} - q_{2} \\left(q_{1} - 1\\right)\\right) \\left(- p_{2} q_{1} + q_{2} \\left(q_{1} - 1\\right) + 1\\right)}{n \\left(p_{1} - q_{1}\\right)^{2} \\left(p_{2} - q_{2}\\right)^{2}}$"
      ],
      "text/plain": [
       "(p2*q1 - q2*(q1 - 1))*(-p2*q1 + q2*(q1 - 1) + 1)/(n*(p1 - q1)**2*(p2 - q2)**2)"
      ]
     },
     "execution_count": 23,
     "metadata": {},
     "output_type": "execute_result"
    }
   ],
   "source": [
    "p1 = sym.Symbol('p1')\n",
    "p2 = sym.Symbol('p2')\n",
    "\n",
    "q1 = sym.Symbol('q1')\n",
    "q2 = sym.Symbol('q2')\n",
    "n = sym.Symbol('n')\n",
    "\n",
    "# approximate variance\n",
    "sig = q1*p2 + (1 - q1) * q2\n",
    "    \n",
    "sym.simplify((sig * (1 - sig)) / (n * (p1 - q1)**2 * (p2 - q2)**2))"
   ]
  },
  {
   "cell_type": "code",
   "execution_count": 24,
   "metadata": {},
   "outputs": [],
   "source": [
    "def Var_f_L(p1, q1, p2, q2, n = 10000):       \n",
    "        \n",
    "    sig = q1*p2 + (1 - q1) * q2\n",
    "    \n",
    "    return (sig * (1 - sig)) / (n * (p1 - q1)**2 * (p2 - q2)**2)"
   ]
  },
  {
   "cell_type": "markdown",
   "metadata": {},
   "source": [
    "## Numerical evaluation (Section IV.D of the paper)"
   ]
  },
  {
   "cell_type": "code",
   "execution_count": 25,
   "metadata": {},
   "outputs": [],
   "source": [
    "# upper bound, i.e., eps_inf\n",
    "lst_eps = [0.5, 1, 2, 4]\n",
    "\n",
    "# percentage for selecting lower bound, i.e., e1 = perc * eps_inf\n",
    "lst_perc = [0.6, 0.5, 0.4, 0.3, 0.2, 0.1]\n",
    "\n",
    "# domain size for L-GRR\n",
    "lst_k = [2, 32, 2**10]\n",
    "\n",
    "dic_var = {perc:[] for perc in lst_perc}\n",
    "\n",
    "# Round variance values with 6 digits\n",
    "round_value = 6\n",
    "\n",
    "for perc_inst in lst_perc:                    \n",
    "    \n",
    "    for eps_perm in lst_eps:\n",
    "        \n",
    "        # list of variance values\n",
    "        lst_var_eps = []\n",
    "        \n",
    "        eps_inst = round(perc_inst * eps_perm, 4)\n",
    "        \n",
    "        # Appending L-GRR variances\n",
    "        for k in lst_k: \n",
    "            p1,q1,p2,q2 = param_L_GRR(eps_perm, eps_inst, k)\n",
    "            lst_var_eps.append(float(round(Var_f_L(p1,q1,p2,q2), round_value)))\n",
    "        \n",
    "        # Appending L-OSUE variances\n",
    "        try: \n",
    "            p1,q1,p2,q2 = param_L_OSUE(eps_perm, eps_inst)\n",
    "            lst_var_eps.append(round(Var_f_L(p1,q1,p2,q2), round_value))\n",
    "        except:\n",
    "            lst_var_eps.append('NC')\n",
    "        \n",
    "        # Appending L-SUE variances\n",
    "        try: \n",
    "            p1,q1,p2,q2 = param_L_SUE(eps_perm, eps_inst)\n",
    "            lst_var_eps.append(round(Var_f_L(p1,q1,p2,q2), round_value))\n",
    "        except:\n",
    "            lst_var_eps.append('NC')        \n",
    "        \n",
    "        # Appending L-SOUE variances\n",
    "        try: \n",
    "            p1,q1,p2,q2 = param_L_SOUE(eps_perm, eps_inst)\n",
    "            lst_var_eps.append(round(Var_f_L(p1,q1,p2,q2), round_value))\n",
    "        except:\n",
    "            lst_var_eps.append('NC')          \n",
    "        \n",
    "        # Appending L-OUE variances\n",
    "        try: \n",
    "            p1,q1,p2,q2 = param_L_OUE(eps_perm, eps_inst)  \n",
    "            lst_var_eps.append(round(Var_f_L(p1,q1,p2,q2), round_value))\n",
    "        except:\n",
    "            lst_var_eps.append('NC')\n",
    "\n",
    "        dic_var[perc_inst].append(lst_var_eps)"
   ]
  },
  {
   "cell_type": "markdown",
   "metadata": {},
   "source": [
    "## Check variance values"
   ]
  },
  {
   "cell_type": "code",
   "execution_count": 26,
   "metadata": {
    "scrolled": true
   },
   "outputs": [
    {
     "data": {
      "text/html": [
       "<div>\n",
       "<style scoped>\n",
       "    .dataframe tbody tr th:only-of-type {\n",
       "        vertical-align: middle;\n",
       "    }\n",
       "\n",
       "    .dataframe tbody tr th {\n",
       "        vertical-align: top;\n",
       "    }\n",
       "\n",
       "    .dataframe thead th {\n",
       "        text-align: right;\n",
       "    }\n",
       "</style>\n",
       "<table border=\"1\" class=\"dataframe\">\n",
       "  <thead>\n",
       "    <tr style=\"text-align: right;\">\n",
       "      <th></th>\n",
       "      <th></th>\n",
       "      <th>L-GRR(k=2)</th>\n",
       "      <th>L-GRR(k=32)</th>\n",
       "      <th>L-GRR(k=$2^{10}$)</th>\n",
       "      <th>OUE-SUE</th>\n",
       "      <th>SUE-SUE</th>\n",
       "      <th>SUE-OUE</th>\n",
       "      <th>OUE-OUE</th>\n",
       "    </tr>\n",
       "    <tr>\n",
       "      <th>perc</th>\n",
       "      <th>eps_1</th>\n",
       "      <th></th>\n",
       "      <th></th>\n",
       "      <th></th>\n",
       "      <th></th>\n",
       "      <th></th>\n",
       "      <th></th>\n",
       "      <th></th>\n",
       "    </tr>\n",
       "  </thead>\n",
       "  <tbody>\n",
       "    <tr>\n",
       "      <th rowspan=\"4\" valign=\"top\">0.6</th>\n",
       "      <th>0.30</th>\n",
       "      <td>0.001103</td>\n",
       "      <td>0.980969</td>\n",
       "      <td>26706.64042</td>\n",
       "      <td>0.004411</td>\n",
       "      <td>0.004436</td>\n",
       "      <td>0.005306</td>\n",
       "      <td>0.005549</td>\n",
       "    </tr>\n",
       "    <tr>\n",
       "      <th>0.60</th>\n",
       "      <td>0.000270</td>\n",
       "      <td>0.125036</td>\n",
       "      <td>3153.91118</td>\n",
       "      <td>0.001078</td>\n",
       "      <td>0.001103</td>\n",
       "      <td>0.001234</td>\n",
       "      <td>0.001347</td>\n",
       "    </tr>\n",
       "    <tr>\n",
       "      <th>1.20</th>\n",
       "      <td>0.000062</td>\n",
       "      <td>0.006327</td>\n",
       "      <td>117.36989</td>\n",
       "      <td>0.000247</td>\n",
       "      <td>0.000270</td>\n",
       "      <td>0.000264</td>\n",
       "      <td>0.000310</td>\n",
       "    </tr>\n",
       "    <tr>\n",
       "      <th>2.40</th>\n",
       "      <td>0.000011</td>\n",
       "      <td>0.000078</td>\n",
       "      <td>0.25903</td>\n",
       "      <td>0.000044</td>\n",
       "      <td>0.000062</td>\n",
       "      <td>0.000045</td>\n",
       "      <td>0.000057</td>\n",
       "    </tr>\n",
       "    <tr>\n",
       "      <th rowspan=\"4\" valign=\"top\">0.5</th>\n",
       "      <th>0.25</th>\n",
       "      <td>0.001592</td>\n",
       "      <td>2.088372</td>\n",
       "      <td>60218.72092</td>\n",
       "      <td>0.006367</td>\n",
       "      <td>0.006392</td>\n",
       "      <td>0.007336</td>\n",
       "      <td>0.007611</td>\n",
       "    </tr>\n",
       "    <tr>\n",
       "      <th>0.50</th>\n",
       "      <td>0.000392</td>\n",
       "      <td>0.268074</td>\n",
       "      <td>7198.83434</td>\n",
       "      <td>0.001567</td>\n",
       "      <td>0.001592</td>\n",
       "      <td>0.001740</td>\n",
       "      <td>0.001872</td>\n",
       "    </tr>\n",
       "    <tr>\n",
       "      <th>1.00</th>\n",
       "      <td>0.000092</td>\n",
       "      <td>0.013926</td>\n",
       "      <td>281.04330</td>\n",
       "      <td>0.000368</td>\n",
       "      <td>0.000392</td>\n",
       "      <td>0.000389</td>\n",
       "      <td>0.000447</td>\n",
       "    </tr>\n",
       "    <tr>\n",
       "      <th>2.00</th>\n",
       "      <td>0.000018</td>\n",
       "      <td>0.000188</td>\n",
       "      <td>0.74088</td>\n",
       "      <td>0.000072</td>\n",
       "      <td>0.000092</td>\n",
       "      <td>0.000073</td>\n",
       "      <td>0.000092</td>\n",
       "    </tr>\n",
       "    <tr>\n",
       "      <th rowspan=\"4\" valign=\"top\">0.4</th>\n",
       "      <th>0.20</th>\n",
       "      <td>0.002492</td>\n",
       "      <td>4.530779</td>\n",
       "      <td>135874.24278</td>\n",
       "      <td>0.009967</td>\n",
       "      <td>0.009992</td>\n",
       "      <td>0.011012</td>\n",
       "      <td>0.011324</td>\n",
       "    </tr>\n",
       "    <tr>\n",
       "      <th>0.40</th>\n",
       "      <td>0.000617</td>\n",
       "      <td>0.586823</td>\n",
       "      <td>16443.91803</td>\n",
       "      <td>0.002467</td>\n",
       "      <td>0.002492</td>\n",
       "      <td>0.002658</td>\n",
       "      <td>0.002812</td>\n",
       "    </tr>\n",
       "    <tr>\n",
       "      <th>0.80</th>\n",
       "      <td>0.000148</td>\n",
       "      <td>0.031552</td>\n",
       "      <td>673.74545</td>\n",
       "      <td>0.000593</td>\n",
       "      <td>0.000617</td>\n",
       "      <td>0.000617</td>\n",
       "      <td>0.000690</td>\n",
       "    </tr>\n",
       "    <tr>\n",
       "      <th>1.60</th>\n",
       "      <td>0.000032</td>\n",
       "      <td>0.000484</td>\n",
       "      <td>2.12772</td>\n",
       "      <td>0.000127</td>\n",
       "      <td>0.000148</td>\n",
       "      <td>0.000128</td>\n",
       "      <td>0.000156</td>\n",
       "    </tr>\n",
       "    <tr>\n",
       "      <th rowspan=\"4\" valign=\"top\">0.3</th>\n",
       "      <th>0.15</th>\n",
       "      <td>0.004436</td>\n",
       "      <td>10.689842</td>\n",
       "      <td>329836.44067</td>\n",
       "      <td>0.017744</td>\n",
       "      <td>0.017769</td>\n",
       "      <td>0.018863</td>\n",
       "      <td>0.019214</td>\n",
       "    </tr>\n",
       "    <tr>\n",
       "      <th>0.30</th>\n",
       "      <td>0.001103</td>\n",
       "      <td>1.398568</td>\n",
       "      <td>40412.79198</td>\n",
       "      <td>0.004411</td>\n",
       "      <td>0.004436</td>\n",
       "      <td>0.004620</td>\n",
       "      <td>0.004799</td>\n",
       "    </tr>\n",
       "    <tr>\n",
       "      <th>0.60</th>\n",
       "      <td>0.000270</td>\n",
       "      <td>0.078202</td>\n",
       "      <td>1737.75675</td>\n",
       "      <td>0.001078</td>\n",
       "      <td>0.001103</td>\n",
       "      <td>0.001106</td>\n",
       "      <td>0.001198</td>\n",
       "    </tr>\n",
       "    <tr>\n",
       "      <th>1.20</th>\n",
       "      <td>0.000062</td>\n",
       "      <td>0.001389</td>\n",
       "      <td>6.56584</td>\n",
       "      <td>0.000247</td>\n",
       "      <td>0.000270</td>\n",
       "      <td>0.000248</td>\n",
       "      <td>0.000291</td>\n",
       "    </tr>\n",
       "    <tr>\n",
       "      <th rowspan=\"4\" valign=\"top\">0.2</th>\n",
       "      <th>0.10</th>\n",
       "      <td>0.009992</td>\n",
       "      <td>30.850524</td>\n",
       "      <td>972656.62277</td>\n",
       "      <td>0.039967</td>\n",
       "      <td>0.039992</td>\n",
       "      <td>0.041148</td>\n",
       "      <td>0.041536</td>\n",
       "    </tr>\n",
       "    <tr>\n",
       "      <th>0.20</th>\n",
       "      <td>0.002492</td>\n",
       "      <td>4.080052</td>\n",
       "      <td>120651.23939</td>\n",
       "      <td>0.009967</td>\n",
       "      <td>0.009992</td>\n",
       "      <td>0.010190</td>\n",
       "      <td>0.010394</td>\n",
       "    </tr>\n",
       "    <tr>\n",
       "      <th>0.40</th>\n",
       "      <td>0.000617</td>\n",
       "      <td>0.237925</td>\n",
       "      <td>5443.09103</td>\n",
       "      <td>0.002467</td>\n",
       "      <td>0.002492</td>\n",
       "      <td>0.002498</td>\n",
       "      <td>0.002610</td>\n",
       "    </tr>\n",
       "    <tr>\n",
       "      <th>0.80</th>\n",
       "      <td>0.000148</td>\n",
       "      <td>0.004939</td>\n",
       "      <td>24.49048</td>\n",
       "      <td>0.000593</td>\n",
       "      <td>0.000617</td>\n",
       "      <td>0.000595</td>\n",
       "      <td>0.000659</td>\n",
       "    </tr>\n",
       "    <tr>\n",
       "      <th rowspan=\"4\" valign=\"top\">0.1</th>\n",
       "      <th>0.05</th>\n",
       "      <td>0.039992</td>\n",
       "      <td>154.117700</td>\n",
       "      <td>4941829.34018</td>\n",
       "      <td>0.159967</td>\n",
       "      <td>0.159992</td>\n",
       "      <td>0.161191</td>\n",
       "      <td>0.161608</td>\n",
       "    </tr>\n",
       "    <tr>\n",
       "      <th>0.10</th>\n",
       "      <td>0.009992</td>\n",
       "      <td>20.613446</td>\n",
       "      <td>620584.58635</td>\n",
       "      <td>0.039967</td>\n",
       "      <td>0.039992</td>\n",
       "      <td>0.040201</td>\n",
       "      <td>0.040424</td>\n",
       "    </tr>\n",
       "    <tr>\n",
       "      <th>0.20</th>\n",
       "      <td>0.002492</td>\n",
       "      <td>1.255550</td>\n",
       "      <td>29356.68268</td>\n",
       "      <td>0.009967</td>\n",
       "      <td>0.009992</td>\n",
       "      <td>0.010000</td>\n",
       "      <td>0.010130</td>\n",
       "    </tr>\n",
       "    <tr>\n",
       "      <th>0.40</th>\n",
       "      <td>0.000617</td>\n",
       "      <td>0.030494</td>\n",
       "      <td>156.12292</td>\n",
       "      <td>0.002467</td>\n",
       "      <td>0.002492</td>\n",
       "      <td>0.002469</td>\n",
       "      <td>0.002560</td>\n",
       "    </tr>\n",
       "  </tbody>\n",
       "</table>\n",
       "</div>"
      ],
      "text/plain": [
       "            L-GRR(k=2)  L-GRR(k=32) L-GRR(k=$2^{10}$)   OUE-SUE   SUE-SUE  \\\n",
       "perc eps_1                                                                  \n",
       "0.6  0.30     0.001103     0.980969       26706.64042  0.004411  0.004436   \n",
       "     0.60     0.000270     0.125036        3153.91118  0.001078  0.001103   \n",
       "     1.20     0.000062     0.006327         117.36989  0.000247  0.000270   \n",
       "     2.40     0.000011     0.000078           0.25903  0.000044  0.000062   \n",
       "0.5  0.25     0.001592     2.088372       60218.72092  0.006367  0.006392   \n",
       "     0.50     0.000392     0.268074        7198.83434  0.001567  0.001592   \n",
       "     1.00     0.000092     0.013926         281.04330  0.000368  0.000392   \n",
       "     2.00     0.000018     0.000188           0.74088  0.000072  0.000092   \n",
       "0.4  0.20     0.002492     4.530779      135874.24278  0.009967  0.009992   \n",
       "     0.40     0.000617     0.586823       16443.91803  0.002467  0.002492   \n",
       "     0.80     0.000148     0.031552         673.74545  0.000593  0.000617   \n",
       "     1.60     0.000032     0.000484           2.12772  0.000127  0.000148   \n",
       "0.3  0.15     0.004436    10.689842      329836.44067  0.017744  0.017769   \n",
       "     0.30     0.001103     1.398568       40412.79198  0.004411  0.004436   \n",
       "     0.60     0.000270     0.078202        1737.75675  0.001078  0.001103   \n",
       "     1.20     0.000062     0.001389           6.56584  0.000247  0.000270   \n",
       "0.2  0.10     0.009992    30.850524      972656.62277  0.039967  0.039992   \n",
       "     0.20     0.002492     4.080052      120651.23939  0.009967  0.009992   \n",
       "     0.40     0.000617     0.237925        5443.09103  0.002467  0.002492   \n",
       "     0.80     0.000148     0.004939          24.49048  0.000593  0.000617   \n",
       "0.1  0.05     0.039992   154.117700     4941829.34018  0.159967  0.159992   \n",
       "     0.10     0.009992    20.613446      620584.58635  0.039967  0.039992   \n",
       "     0.20     0.002492     1.255550       29356.68268  0.009967  0.009992   \n",
       "     0.40     0.000617     0.030494         156.12292  0.002467  0.002492   \n",
       "\n",
       "             SUE-OUE   OUE-OUE  \n",
       "perc eps_1                      \n",
       "0.6  0.30   0.005306  0.005549  \n",
       "     0.60   0.001234  0.001347  \n",
       "     1.20   0.000264  0.000310  \n",
       "     2.40   0.000045  0.000057  \n",
       "0.5  0.25   0.007336  0.007611  \n",
       "     0.50   0.001740  0.001872  \n",
       "     1.00   0.000389  0.000447  \n",
       "     2.00   0.000073  0.000092  \n",
       "0.4  0.20   0.011012  0.011324  \n",
       "     0.40   0.002658  0.002812  \n",
       "     0.80   0.000617  0.000690  \n",
       "     1.60   0.000128  0.000156  \n",
       "0.3  0.15   0.018863  0.019214  \n",
       "     0.30   0.004620  0.004799  \n",
       "     0.60   0.001106  0.001198  \n",
       "     1.20   0.000248  0.000291  \n",
       "0.2  0.10   0.041148  0.041536  \n",
       "     0.20   0.010190  0.010394  \n",
       "     0.40   0.002498  0.002610  \n",
       "     0.80   0.000595  0.000659  \n",
       "0.1  0.05   0.161191  0.161608  \n",
       "     0.10   0.040201  0.040424  \n",
       "     0.20   0.010000  0.010130  \n",
       "     0.40   0.002469  0.002560  "
      ]
     },
     "execution_count": 26,
     "metadata": {},
     "output_type": "execute_result"
    }
   ],
   "source": [
    "df_var = pd.concat([pd.DataFrame(dic_var[perc]) for perc in lst_perc])\n",
    "df_var.columns = ['L-GRR(k=2)', 'L-GRR(k=32)', 'L-GRR(k=$2^{10}$)', 'OUE-SUE', 'SUE-SUE', 'SUE-OUE', 'OUE-OUE']\n",
    "df_var['L-GRR(k=$2^{10}$)'] = df_var['L-GRR(k=$2^{10}$)'].apply(lambda x: '%.5f' % x)\n",
    "df_var['perc'] = [cons for cons in lst_perc for _ in range(4)]\n",
    "df_var['eps_1'] = np.array([list(val * np.array(lst_eps)) for val in lst_perc]).reshape(-1)\n",
    "df_var.set_index(['perc','eps_1'], inplace=True)\n",
    "df_var"
   ]
  },
  {
   "cell_type": "markdown",
   "metadata": {},
   "source": [
    "## Figure paper"
   ]
  },
  {
   "cell_type": "code",
   "execution_count": 29,
   "metadata": {},
   "outputs": [],
   "source": [
    "# upper bound, i.e., eps_inf\n",
    "lst_eps = np.arange(0.5, 4.1, 0.5)\n",
    "\n",
    "#percentage for selecting lower bound, i.e., e1 = perc * eps_inf\n",
    "lst_perc = [0.3, 0.6]\n",
    "\n",
    "var_l_oue = {perc:[] for perc in lst_perc}\n",
    "var_l_sue = {perc:[] for perc in lst_perc}\n",
    "var_l_osue = {perc:[] for perc in lst_perc}\n",
    "var_l_soue = {perc:[] for perc in lst_perc}\n",
    "\n",
    "for perc_inst in lst_perc:                    \n",
    "    \n",
    "    for eps_perm in lst_eps:    \n",
    "        eps_inst = round(perc_inst * eps_perm, 4)\n",
    "        \n",
    "        # L-OUE\n",
    "        p1,q1,p2,q2 = param_L_OUE(eps_perm,eps_inst)  \n",
    "        var_l_oue[perc_inst].append(Var_f_L(p1,q1,p2,q2))\n",
    "\n",
    "        # L-SUE\n",
    "        p1,q1,p2,q2 = param_L_SUE(eps_perm,eps_inst)\n",
    "        var_l_sue[perc_inst].append(Var_f_L(p1,q1,p2,q2))\n",
    "        \n",
    "        # L-OSUE\n",
    "        p1,q1,p2,q2 = param_L_OSUE(eps_perm,eps_inst)\n",
    "        var_l_osue[perc_inst].append(Var_f_L(p1,q1,p2,q2))\n",
    "        \n",
    "        # L-SOUE\n",
    "        p1,q1,p2,q2 = param_L_SOUE(eps_perm,eps_inst)\n",
    "        var_l_soue[perc_inst].append(Var_f_L(p1,q1,p2,q2))"
   ]
  },
  {
   "cell_type": "markdown",
   "metadata": {},
   "source": [
    "## Visualization"
   ]
  },
  {
   "cell_type": "code",
   "execution_count": 30,
   "metadata": {},
   "outputs": [
    {
     "data": {
      "image/png": "[encoded data removed]",
      "text/plain": [
       "<Figure size 1296x432 with 2 Axes>"
      ]
     },
     "metadata": {
      "needs_background": "light"
     },
     "output_type": "display_data"
    }
   ],
   "source": [
    "fig = plt.figure(figsize=(18, 6))\n",
    "grid = plt.GridSpec(1, 2, wspace=0.13, hspace=0.2)\n",
    "\n",
    "f1 = fig.add_subplot(grid[0])\n",
    "f2 = fig.add_subplot(grid[1])\n",
    "\n",
    "plots = [f1, f2]\n",
    "\n",
    "markers = ['D', 'd', '>', 's', 'o', '*', 'x', 'X', '.']\n",
    "linestyles = ['solid', 'dashed', 'dotted', 'dashdot', (0, (5, 10)), (0, (3, 10, 1, 10))]\n",
    "\n",
    "fig_idx = 0\n",
    "\n",
    "for perc_inst in lst_perc:\n",
    "\n",
    "    plots[fig_idx].plot(var_l_osue[perc_inst],label='L-OSUE', marker='>', linestyle='solid')\n",
    "    plots[fig_idx].plot(var_l_soue[perc_inst],label='L-SOUE', marker='s', linestyle='dashdot')\n",
    "    plots[fig_idx].plot(var_l_sue[perc_inst],label='L-SUE', marker='d', linestyle='dashed')\n",
    "    plots[fig_idx].plot(var_l_oue[perc_inst],label='L-OUE', marker='D', linestyle='dotted')\n",
    "    \n",
    "    \n",
    "    plots[fig_idx].set_yscale('log')\n",
    "    plots[fig_idx].set_xticks(range(len(lst_eps)))\n",
    "    plots[fig_idx].set_xticklabels([round(val,4) for val in lst_eps])\n",
    "    plots[fig_idx].set_ylabel('var', fontsize=16)\n",
    "    plots[fig_idx].set_xlabel(\"$\\epsilon_{\\infty}$\", fontsize=16)\n",
    "    plots[fig_idx].legend(title='$\\epsilon_1$ $=$' +f'${perc_inst}$'+ '$\\epsilon_{\\infty}$',\\\n",
    "                            prop=dict(weight='normal'),fontsize=14,loc='upper right')\n",
    "    \n",
    "    \n",
    "    plots[fig_idx].grid(color='grey', linestyle='--', linewidth=0.5)\n",
    "    fig_idx+=1\n",
    "\n",
    "plt.show();"
   ]
  },
  {
   "cell_type": "markdown",
   "metadata": {},
   "source": [
    "#### Conclusion"
   ]
  },
  {
   "cell_type": "markdown",
   "metadata": {},
   "source": [
    "L-OSUE provides smaller variance values than the state of the art L-SUE (i.e., basic-rappor) and L-OUE (i.e., OUE with memoization)"
   ]
  },
  {
   "cell_type": "code",
   "execution_count": 70,
   "metadata": {},
   "outputs": [
    {
     "data": {
      "text/plain": [
       "(True, True)"
      ]
     },
     "execution_count": 70,
     "metadata": {},
     "output_type": "execute_result"
    }
   ],
   "source": [
    "var_l_osue[0.3] < var_l_sue[0.3], var_l_osue[0.3] < var_l_oue[0.3]"
   ]
  },
  {
   "cell_type": "code",
   "execution_count": 69,
   "metadata": {},
   "outputs": [
    {
     "data": {
      "text/plain": [
       "(True, True)"
      ]
     },
     "execution_count": 69,
     "metadata": {},
     "output_type": "execute_result"
    }
   ],
   "source": [
    "var_l_osue[0.6] < var_l_sue[0.6], var_l_osue[0.6] < var_l_oue[0.6]"
   ]
  },
  {
   "cell_type": "code",
   "execution_count": null,
   "metadata": {},
   "outputs": [],
   "source": []
  }
 ],
 "metadata": {
  "kernelspec": {
   "display_name": "Python [conda env:root] *",
   "language": "python",
   "name": "conda-root-py"
  },
  "language_info": {
   "codemirror_mode": {
    "name": "ipython",
    "version": 3
   },
   "file_extension": ".py",
   "mimetype": "text/x-python",
   "name": "python",
   "nbconvert_exporter": "python",
   "pygments_lexer": "ipython3",
   "version": "3.8.8"
  }
 },
 "nbformat": 4,
 "nbformat_minor": 4
}
