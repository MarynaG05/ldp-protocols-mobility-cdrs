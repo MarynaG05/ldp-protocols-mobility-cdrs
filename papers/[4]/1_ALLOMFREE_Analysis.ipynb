{
 "cells": [
  {
   "cell_type": "markdown",
   "metadata": {},
   "source": [
    "## Libraries"
   ]
  },
  {
   "cell_type": "code",
   "execution_count": 52,
   "metadata": {},
   "outputs": [],
   "source": [
    "import sympy as sym\n",
    "import numpy as np\n",
    "import pandas as pd\n",
    "from scipy import optimize\n",
    "\n",
    "\n",
    "import matplotlib.pyplot as plt\n",
    "import matplotlib\n",
    "params = {'axes.titlesize':'14',\n",
    "          'xtick.labelsize':'14',\n",
    "          'ytick.labelsize':'14',\n",
    "          'font.size':'14',\n",
    "          'legend.fontsize':'medium',\n",
    "          'lines.linewidth':'1.5',\n",
    "          'font.weight':'normal',\n",
    "          'lines.markersize':'8'\n",
    "          }\n",
    "matplotlib.rcParams.update(params)\n",
    "#plt.rcParams[\"mathtext.fontset\"] = \"cm\""
   ]
  },
  {
   "cell_type": "markdown",
   "metadata": {},
   "source": [
    "# LONGITUDINAL UNARY ENCODING PROTOCOLS"
   ]
  },
  {
   "attachments": {
    "image.png": {
     "image/png": "[encoded data removed]"
    }
   },
   "cell_type": "markdown",
   "metadata": {},
   "source": [
    "![image.png](attachment:image.png)"
   ]
  },
  {
   "cell_type": "markdown",
   "metadata": {},
   "source": [
    "## Calculus of $\\epsilon_1$"
   ]
  },
  {
   "cell_type": "code",
   "execution_count": 53,
   "metadata": {},
   "outputs": [
    {
     "data": {
      "text/latex": [
       "$\\displaystyle \\log{\\left(\\frac{\\left(p_{1} p_{2} - q_{2} \\left(p_{1} - 1\\right)\\right) \\left(p_{2} q_{1} - q_{2} \\left(q_{1} - 1\\right) - 1\\right)}{\\left(p_{2} q_{1} - q_{2} \\left(q_{1} - 1\\right)\\right) \\left(p_{1} p_{2} - q_{2} \\left(p_{1} - 1\\right) - 1\\right)} \\right)}$"
      ],
      "text/plain": [
       "log((p1*p2 - q2*(p1 - 1))*(p2*q1 - q2*(q1 - 1) - 1)/((p2*q1 - q2*(q1 - 1))*(p1*p2 - q2*(p1 - 1) - 1)))"
      ]
     },
     "execution_count": 53,
     "metadata": {},
     "output_type": "execute_result"
    }
   ],
   "source": [
    "p1 = sym.Symbol('p1')\n",
    "q1 = sym.Symbol('q1')\n",
    "\n",
    "p2 = sym.Symbol('p2')\n",
    "q2 = sym.Symbol('q2')\n",
    "\n",
    "#Pr[Bi'' = 1 | B_i = 1]\n",
    "p_star = p1 * p2 + (1 - p1) * q2\n",
    "\n",
    "#Pr[Bi'' = 1 | B_i = 0]\n",
    "q_star = q1 * p2 + (1 - q1) * q2\n",
    "\n",
    "e1 = sym.simplify(sym.log((p_star*(1-q_star))/(q_star*(1-p_star))))\n",
    "e1"
   ]
  },
  {
   "cell_type": "markdown",
   "metadata": {},
   "source": [
    "**log** will refer to **ln** throughout our analysis."
   ]
  },
  {
   "cell_type": "markdown",
   "metadata": {},
   "source": [
    "## Based on OUE and SUE protocols, we have four options on how to select p1, q1, p2, q2\n",
    "\n",
    "- both sanitizations with OUE (L-OUE);\n",
    "- both sanitizations with SUE (L-SUE);\n",
    "- starting with OUE and then with SUE (L-OSUE);\n",
    "- starting with SUE and then with OUE (L-SOUE);"
   ]
  },
  {
   "cell_type": "markdown",
   "metadata": {},
   "source": [
    "# Finding parameters for each combination of L-UE protocols"
   ]
  },
  {
   "cell_type": "markdown",
   "metadata": {},
   "source": [
    "## Analytical study of $\\epsilon_1$ for L-OSUE"
   ]
  },
  {
   "cell_type": "code",
   "execution_count": 54,
   "metadata": {},
   "outputs": [
    {
     "data": {
      "text/latex": [
       "$\\displaystyle \\log{\\left(\\frac{- p_{2} e^{\\epsilon_{\\infty}} + p_{2} - 1}{p_{2} e^{\\epsilon_{\\infty}} - p_{2} - e^{\\epsilon_{\\infty}}} \\right)}$"
      ],
      "text/plain": [
       "log((-p2*exp(\\epsilon_{\\infty}) + p2 - 1)/(p2*exp(\\epsilon_{\\infty}) - p2 - exp(\\epsilon_{\\infty})))"
      ]
     },
     "execution_count": 54,
     "metadata": {},
     "output_type": "execute_result"
    }
   ],
   "source": [
    "eps_perm = sym.Symbol('\\epsilon_{\\infty}')\n",
    "eps_1 = sym.Symbol('\\epsilon_{1}')\n",
    "\n",
    "# OUE parameters\n",
    "p1 = 1/2\n",
    "q1 = 1/(sym.exp(eps_perm) + 1)\n",
    "\n",
    "# SUE parameters (p2+q2=1 , i.e., symmetric)\n",
    "p2 = sym.Symbol('p2')\n",
    "q2 = 1 - p2\n",
    "\n",
    "#Pr[Bi'' = 1 | B_i = 1]\n",
    "p_star = p1 * p2 + (1 - p1) * q2\n",
    "\n",
    "#Pr[Bi'' = 1 | B_i = 0]\n",
    "q_star = q1 * p2 + (1 - q1) * q2\n",
    "\n",
    "e1 = sym.simplify(sym.log((p_star*(1-q_star))/(q_star*(1-p_star))))\n",
    "e1"
   ]
  },
  {
   "cell_type": "markdown",
   "metadata": {},
   "source": [
    "### Isolating and solving for p2 (in terms of $\\epsilon_{\\infty}$ and $\\epsilon_1$)"
   ]
  },
  {
   "cell_type": "code",
   "execution_count": 55,
   "metadata": {},
   "outputs": [
    {
     "data": {
      "text/latex": [
       "$\\displaystyle \\frac{1.0 - e^{\\epsilon_{1} + \\epsilon_{\\infty}}}{e^{\\epsilon_{1}} - e^{\\epsilon_{\\infty}} - e^{\\epsilon_{1} + \\epsilon_{\\infty}} + 1.0}$"
      ],
      "text/plain": [
       "(1.0 - exp(\\epsilon_{1} + \\epsilon_{\\infty}))/(exp(\\epsilon_{1}) - exp(\\epsilon_{\\infty}) - exp(\\epsilon_{1} + \\epsilon_{\\infty}) + 1.0)"
      ]
     },
     "execution_count": 55,
     "metadata": {},
     "output_type": "execute_result"
    }
   ],
   "source": [
    "p2 = sym.solve((p_star*(1-q_star))/(q_star*(1-p_star)) - sym.exp(eps_1),p2)\n",
    "sym.simplify(p2[-1])"
   ]
  },
  {
   "cell_type": "markdown",
   "metadata": {},
   "source": [
    "### Validation: $e^{\\epsilon_1}$ == $e^{\\epsilon_1}$ ?"
   ]
  },
  {
   "cell_type": "code",
   "execution_count": 56,
   "metadata": {},
   "outputs": [
    {
     "data": {
      "text/latex": [
       "$\\displaystyle 1.0 e^{\\epsilon_{1}}$"
      ],
      "text/plain": [
       "1.0*exp(\\epsilon_{1})"
      ]
     },
     "execution_count": 56,
     "metadata": {},
     "output_type": "execute_result"
    }
   ],
   "source": [
    "eps_perm = sym.Symbol('\\epsilon_{\\infty}')\n",
    "eps_1 = sym.Symbol('\\epsilon_{1}')\n",
    "\n",
    "# OUE parameters\n",
    "p1 = 1/2\n",
    "q1 = 1/(sym.exp(eps_perm) + 1)\n",
    "\n",
    "# SUE parameters\n",
    "p2 = (1 - sym.exp(eps_1 + eps_perm)) / (sym.exp(eps_1) - sym.exp(eps_perm) - sym.exp(eps_1 + eps_perm) +1)\n",
    "q2 = 1 - p2\n",
    "\n",
    "#Pr[Bi'' = 1 | B_i = 1]\n",
    "p_star = p1 * p2 + (1 - p1) * q2\n",
    "\n",
    "#Pr[Bi'' = 1 | B_i = 0]\n",
    "q_star = q1 * p2 + (1 - q1) * q2\n",
    "\n",
    "e1 = sym.simplify(p_star*(1-q_star))/(q_star*(1-p_star))\n",
    "sym.simplify(e1)"
   ]
  },
  {
   "cell_type": "markdown",
   "metadata": {},
   "source": [
    "### Numerical evaluation of e1"
   ]
  },
  {
   "cell_type": "code",
   "execution_count": 57,
   "metadata": {},
   "outputs": [
    {
     "data": {
      "text/plain": [
       "(0.10000000000000007, 0.1)"
      ]
     },
     "execution_count": 57,
     "metadata": {},
     "output_type": "execute_result"
    }
   ],
   "source": [
    "# select upper and lower privacy parameters\n",
    "eps_perm = 1\n",
    "eps_1 = 0.1\n",
    "\n",
    "p1 = 1/2\n",
    "q1 = 1/(np.exp(eps_perm) + 1)\n",
    "\n",
    "p2 = (1 - np.exp(eps_1 + eps_perm)) / (np.exp(eps_1) - np.exp(eps_perm) - np.exp(eps_1 + eps_perm) +1)\n",
    "q2 = 1 - p2\n",
    "\n",
    "#Pr[Bi'' = 1 | B_i = 1]\n",
    "p_star = p1 * p2 + (1 - p1) * q2\n",
    "\n",
    "#Pr[Bi'' = 1 | B_i = 0]\n",
    "q_star = q1 * p2 + (1 - q1) * q2\n",
    "\n",
    "np.log((p_star*(1-q_star))/(q_star*(1-p_star))), eps_1"
   ]
  },
  {
   "cell_type": "markdown",
   "metadata": {},
   "source": [
    "### General Function for L_OSUE"
   ]
  },
  {
   "cell_type": "code",
   "execution_count": 58,
   "metadata": {},
   "outputs": [],
   "source": [
    "def param_L_OSUE(eps_perm,eps_1):\n",
    "    \n",
    "    \"\"\"Provides the flipping probabilities p1, q1, p2, q2 of using the L-OSUE protocol.\n",
    "    input: upper (eps_perm) and lower (eps_1) bound of the privacy parameter epsilon.\n",
    "    output: p1, q1, p2, q2\"\"\"\n",
    "    \n",
    "    # OUE parameters\n",
    "    p1 = 1/2\n",
    "    q1 = 1/(np.exp(eps_perm) + 1)\n",
    "\n",
    "    # SUE parameters\n",
    "    p2 = (1 - np.exp(eps_1 + eps_perm)) / (np.exp(eps_1) - np.exp(eps_perm) - np.exp(eps_1 + eps_perm) +1)\n",
    "    q2 = 1 - p2\n",
    "       \n",
    "    # numerical evaluation\n",
    "    num = (p1*p2 - q2*(p1-1)) * (-p2*q1 + q2*(q1-1)+1)\n",
    "    den = (p2*q1 - q2*(q1-1)) * (-p1*p2 + q2*(p1-1)+1)\n",
    "\n",
    "    if round(np.log(num/den), 4) == eps_1:\n",
    "        if (np.array([p1, q1, p2, q2]) > 0).all():\n",
    "            return p1, q1, p2, q2\n",
    "        else: \n",
    "            raise ValueError('Probabilities are negative.')"
   ]
  },
  {
   "cell_type": "markdown",
   "metadata": {},
   "source": [
    "## Analytical study of $\\epsilon_1$ for L-OUE"
   ]
  },
  {
   "cell_type": "code",
   "execution_count": 59,
   "metadata": {},
   "outputs": [
    {
     "data": {
      "text/latex": [
       "$\\displaystyle \\log{\\left(\\frac{\\left(0.5 q_{2} + 0.25\\right) \\left(q_{2} e^{\\epsilon_{\\infty}} - e^{\\epsilon_{\\infty}} - 0.5\\right)}{\\left(0.5 q_{2} - 0.75\\right) \\left(q_{2} e^{\\epsilon_{\\infty}} + 0.5\\right)} \\right)}$"
      ],
      "text/plain": [
       "log((0.5*q2 + 0.25)*(q2*exp(\\epsilon_{\\infty}) - exp(\\epsilon_{\\infty}) - 0.5)/((0.5*q2 - 0.75)*(q2*exp(\\epsilon_{\\infty}) + 0.5)))"
      ]
     },
     "execution_count": 59,
     "metadata": {},
     "output_type": "execute_result"
    }
   ],
   "source": [
    "eps_perm = sym.Symbol('\\epsilon_{\\infty}')\n",
    "eps_1 = sym.Symbol('\\epsilon_{1}')\n",
    "\n",
    "# OUE parameters\n",
    "p1 = 1/2\n",
    "q1 = 1/(sym.exp(eps_perm) + 1)\n",
    "\n",
    "# OUE parameters\n",
    "p2 = 0.5\n",
    "q2 = sym.Symbol('q2')\n",
    "\n",
    "#Pr[Bi'' = 1 | B_i = 1]\n",
    "p_star = p1 * p2 + (1 - p1) * q2\n",
    "\n",
    "#Pr[Bi'' = 1 | B_i = 0]\n",
    "q_star = q1 * p2 + (1 - q1) * q2\n",
    "\n",
    "e1 = sym.simplify(sym.log((p_star*(1-q_star))/(q_star*(1-p_star))))\n",
    "e1"
   ]
  },
  {
   "cell_type": "markdown",
   "metadata": {},
   "source": [
    "### Isolating and solving for q2 (in terms of $\\epsilon_{\\infty}$ and $\\epsilon_1$)"
   ]
  },
  {
   "cell_type": "code",
   "execution_count": 60,
   "metadata": {
    "scrolled": true
   },
   "outputs": [
    {
     "data": {
      "text/latex": [
       "$\\displaystyle \\frac{\\left(- 1.11803398874989 \\sqrt{0.1 e^{\\epsilon_{1}} + 0.05 e^{2.0 \\epsilon_{1}} + 0.3 e^{\\epsilon_{\\infty}} + 0.45 e^{2.0 \\epsilon_{\\infty}} - e^{\\epsilon_{1} + \\epsilon_{\\infty}} - 0.7 e^{\\epsilon_{1} + 2.0 \\epsilon_{\\infty}} + 0.3 e^{2.0 \\epsilon_{1} + \\epsilon_{\\infty}} + 0.45 e^{2.0 \\epsilon_{1} + 2.0 \\epsilon_{\\infty}} + 0.05} - 0.25 e^{\\epsilon_{1}} - 0.25 e^{\\epsilon_{\\infty}} + 0.75 e^{\\epsilon_{1} + \\epsilon_{\\infty}} - 0.25\\right) e^{- \\epsilon_{\\infty}}}{e^{\\epsilon_{1}} - 1.0}$"
      ],
      "text/plain": [
       "(-1.11803398874989*sqrt(0.1*exp(\\epsilon_{1}) + 0.05*exp(2.0*\\epsilon_{1}) + 0.3*exp(\\epsilon_{\\infty}) + 0.45*exp(2.0*\\epsilon_{\\infty}) - exp(\\epsilon_{1} + \\epsilon_{\\infty}) - 0.7*exp(\\epsilon_{1} + 2.0*\\epsilon_{\\infty}) + 0.3*exp(2.0*\\epsilon_{1} + \\epsilon_{\\infty}) + 0.45*exp(2.0*\\epsilon_{1} + 2.0*\\epsilon_{\\infty}) + 0.05) - 0.25*exp(\\epsilon_{1}) - 0.25*exp(\\epsilon_{\\infty}) + 0.75*exp(\\epsilon_{1} + \\epsilon_{\\infty}) - 0.25)*exp(-\\epsilon_{\\infty})/(exp(\\epsilon_{1}) - 1.0)"
      ]
     },
     "execution_count": 60,
     "metadata": {},
     "output_type": "execute_result"
    }
   ],
   "source": [
    "q2 = sym.solve((p_star*(1-q_star))/(q_star*(1-p_star)) - sym.exp(eps_1), q2)\n",
    "sym.simplify(q2[-1])"
   ]
  },
  {
   "cell_type": "markdown",
   "metadata": {},
   "source": [
    "### Numerical evaluation of e1"
   ]
  },
  {
   "cell_type": "code",
   "execution_count": 61,
   "metadata": {},
   "outputs": [
    {
     "data": {
      "text/plain": [
       "(0.24999999999999128, 0.25)"
      ]
     },
     "execution_count": 61,
     "metadata": {},
     "output_type": "execute_result"
    }
   ],
   "source": [
    "# select upper and lower privacy parameters\n",
    "eps_perm = 1\n",
    "eps_1 = 0.25\n",
    "\n",
    "p1 = 1/2\n",
    "q1 = 1/(np.exp(eps_perm) + 1)\n",
    "\n",
    "p2 = 0.5\n",
    "q2 = ((-1.11803398874989 * np.sqrt(0.1 * np.exp(eps_1) + 0.05 * np.exp(2 * eps_1) + 0.3 * np.exp(eps_perm) + 0.45 * np.exp(2 * eps_perm) - np.exp(eps_1 + eps_perm) - 0.7 *  np.exp(eps_1 + 2 * eps_perm) + 0.3 * np.exp(2 * eps_1 + eps_perm) + 0.45 * np.exp(2.0 * eps_1 + 2.0  * eps_perm) + 0.05) - 0.25 * np.exp(eps_1) - 0.25 * np.exp(eps_perm) + 0.75 * np.exp(eps_1 + eps_perm) - 0.25) * np.exp(-eps_perm)) / (np.exp(eps_1) - 1.0)\n",
    "\n",
    "#Pr[Bi'' = 1 | B_i = 1]\n",
    "p_star = p1 * p2 + (1 - p1) * q2\n",
    "\n",
    "#Pr[Bi'' = 1 | B_i = 0]\n",
    "q_star = q1 * p2 + (1 - q1) * q2\n",
    "\n",
    "np.log((p_star*(1-q_star))/(q_star*(1-p_star))), eps_1"
   ]
  },
  {
   "cell_type": "markdown",
   "metadata": {},
   "source": [
    "### General Function for L_OUE"
   ]
  },
  {
   "cell_type": "code",
   "execution_count": 62,
   "metadata": {},
   "outputs": [],
   "source": [
    "def param_L_OUE(eps_perm, eps_1):\n",
    "    \n",
    "    \"\"\"Provides the flipping probabilities p1, q1, p2, q2 of using the L-OUE protocol.\n",
    "    input: upper (eps_perm) and lower (eps_1) bound of the privacy parameter epsilon.\n",
    "    output: p1, q1, p2, q2\"\"\"\n",
    "    \n",
    "    # OUE parameters\n",
    "    p1 = 0.5\n",
    "    q1 = 1 / (np.exp(eps_perm) + 1)\n",
    "\n",
    "    # OUE parameters\n",
    "    p2 = 0.5\n",
    "    q2 = ((-1.11803398874989 * np.sqrt(0.1 * np.exp(eps_1) + 0.05 * np.exp(2 * eps_1) + 0.3 * np.exp(eps_perm) + 0.45 * np.exp(2 * eps_perm) - np.exp(eps_1 + eps_perm) - 0.7 *  np.exp(eps_1 + 2 * eps_perm) + 0.3 * np.exp(2 * eps_1 + eps_perm) + 0.45 * np.exp(2.0 * eps_1 + 2.0  * eps_perm) + 0.05) - 0.25 * np.exp(eps_1) - 0.25 * np.exp(eps_perm) + 0.75 * np.exp(eps_1 + eps_perm) - 0.25) * np.exp(-eps_perm)) / (np.exp(eps_1) - 1.0)\n",
    "    \n",
    "    # numerical evaluation\n",
    "    num = (p1*p2 - q2*(p1-1)) * (-p2*q1 + q2*(q1-1)+1)\n",
    "    den = (p2*q1 - q2*(q1-1)) * (-p1*p2 + q2*(p1-1)+1)\n",
    "\n",
    "    if round(np.log(num/den),4) == eps_1:\n",
    "        if (np.array([p1, q1, p2, q2]) > 0).all():\n",
    "            return p1, q1, p2, q2\n",
    "        else: \n",
    "            raise ValueError('Probabilities are negative.')"
   ]
  },
  {
   "cell_type": "markdown",
   "metadata": {},
   "source": [
    "## Analytical study of $\\epsilon_1$ for L-SUE"
   ]
  },
  {
   "cell_type": "code",
   "execution_count": 63,
   "metadata": {},
   "outputs": [
    {
     "data": {
      "text/latex": [
       "$\\displaystyle \\log{\\left(\\frac{\\left(p_{2} e^{\\frac{\\epsilon_{\\infty}}{2}} - p_{2} + 1\\right) \\left(p_{2} + \\left(1 - p_{2}\\right) e^{\\frac{\\epsilon_{\\infty}}{2}} - e^{\\frac{\\epsilon_{\\infty}}{2}} - 1\\right)}{\\left(p_{2} - \\left(p_{2} - 1\\right) e^{\\frac{\\epsilon_{\\infty}}{2}}\\right) \\left(p_{2} e^{\\frac{\\epsilon_{\\infty}}{2}} - p_{2} - e^{\\frac{\\epsilon_{\\infty}}{2}}\\right)} \\right)}$"
      ],
      "text/plain": [
       "log((p2*exp(\\epsilon_{\\infty}/2) - p2 + 1)*(p2 + (1 - p2)*exp(\\epsilon_{\\infty}/2) - exp(\\epsilon_{\\infty}/2) - 1)/((p2 - (p2 - 1)*exp(\\epsilon_{\\infty}/2))*(p2*exp(\\epsilon_{\\infty}/2) - p2 - exp(\\epsilon_{\\infty}/2))))"
      ]
     },
     "execution_count": 63,
     "metadata": {},
     "output_type": "execute_result"
    }
   ],
   "source": [
    "eps_perm = sym.Symbol('\\epsilon_{\\infty}')\n",
    "eps_1 = sym.Symbol('\\epsilon_{1}')\n",
    "\n",
    "# SUE parameters\n",
    "p1 = sym.exp(eps_perm/2) / (sym.exp(eps_perm/2) + 1)\n",
    "q1 = 1 - p1\n",
    "\n",
    "# OUE parameters\n",
    "p2 = sym.Symbol('p2')\n",
    "q2 = 1 - p2\n",
    "\n",
    "#Pr[Bi'' = 1 | B_i = 1]\n",
    "p_star = p1 * p2 + (1 - p1) * q2\n",
    "\n",
    "#Pr[Bi'' = 1 | B_i = 0]\n",
    "q_star = q1 * p2 + (1 - q1) * q2\n",
    "\n",
    "e1 = sym.simplify(sym.log((p_star*(1-q_star))/(q_star*(1-p_star))))\n",
    "e1"
   ]
  },
  {
   "cell_type": "markdown",
   "metadata": {},
   "source": [
    "### Isolating and solving for p2 (in terms of $\\epsilon_{\\infty}$ and $\\epsilon_1$)"
   ]
  },
  {
   "cell_type": "code",
   "execution_count": 64,
   "metadata": {},
   "outputs": [
    {
     "data": {
      "text/latex": [
       "$\\displaystyle - \\frac{\\sqrt{\\left(4 e^{\\frac{7 \\epsilon_{\\infty}}{2}} - 4 e^{\\frac{5 \\epsilon_{\\infty}}{2}} - 4 e^{\\frac{3 \\epsilon_{\\infty}}{2}} + 4 e^{\\frac{\\epsilon_{\\infty}}{2}} + e^{4 \\epsilon_{\\infty}} + 4 e^{3 \\epsilon_{\\infty}} - 10 e^{2 \\epsilon_{\\infty}} + 4 e^{\\epsilon_{\\infty}} + 1\\right) e^{\\epsilon_{1}}} \\left(e^{\\epsilon_{1}} - 1\\right) \\left(e^{\\epsilon_{\\infty}} - 1\\right)^{2} - \\left(e^{\\epsilon_{1}} - e^{2 \\epsilon_{\\infty}} + 2 e^{\\epsilon_{\\infty}} - 2 e^{\\epsilon_{1} + \\epsilon_{\\infty}} + e^{\\epsilon_{1} + 2 \\epsilon_{\\infty}} - 1\\right) \\left(e^{\\frac{3 \\epsilon_{\\infty}}{2}} - e^{\\frac{\\epsilon_{\\infty}}{2}} + e^{\\epsilon_{\\infty}} - e^{\\epsilon_{1} + \\frac{\\epsilon_{\\infty}}{2}} - e^{\\epsilon_{1} + \\epsilon_{\\infty}} + e^{\\epsilon_{1} + \\frac{3 \\epsilon_{\\infty}}{2}} + e^{\\epsilon_{1} + 2 \\epsilon_{\\infty}} - 1\\right)}{\\left(e^{\\epsilon_{1}} - 1\\right) \\left(e^{\\epsilon_{\\infty}} - 1\\right)^{2} \\left(e^{\\epsilon_{1}} - e^{2 \\epsilon_{\\infty}} + 2 e^{\\epsilon_{\\infty}} - 2 e^{\\epsilon_{1} + \\epsilon_{\\infty}} + e^{\\epsilon_{1} + 2 \\epsilon_{\\infty}} - 1\\right)}$"
      ],
      "text/plain": [
       "-(sqrt((4*exp(7*\\epsilon_{\\infty}/2) - 4*exp(5*\\epsilon_{\\infty}/2) - 4*exp(3*\\epsilon_{\\infty}/2) + 4*exp(\\epsilon_{\\infty}/2) + exp(4*\\epsilon_{\\infty}) + 4*exp(3*\\epsilon_{\\infty}) - 10*exp(2*\\epsilon_{\\infty}) + 4*exp(\\epsilon_{\\infty}) + 1)*exp(\\epsilon_{1}))*(exp(\\epsilon_{1}) - 1)*(exp(\\epsilon_{\\infty}) - 1)**2 - (exp(\\epsilon_{1}) - exp(2*\\epsilon_{\\infty}) + 2*exp(\\epsilon_{\\infty}) - 2*exp(\\epsilon_{1} + \\epsilon_{\\infty}) + exp(\\epsilon_{1} + 2*\\epsilon_{\\infty}) - 1)*(exp(3*\\epsilon_{\\infty}/2) - exp(\\epsilon_{\\infty}/2) + exp(\\epsilon_{\\infty}) - exp(\\epsilon_{1} + \\epsilon_{\\infty}/2) - exp(\\epsilon_{1} + \\epsilon_{\\infty}) + exp(\\epsilon_{1} + 3*\\epsilon_{\\infty}/2) + exp(\\epsilon_{1} + 2*\\epsilon_{\\infty}) - 1))/((exp(\\epsilon_{1}) - 1)*(exp(\\epsilon_{\\infty}) - 1)**2*(exp(\\epsilon_{1}) - exp(2*\\epsilon_{\\infty}) + 2*exp(\\epsilon_{\\infty}) - 2*exp(\\epsilon_{1} + \\epsilon_{\\infty}) + exp(\\epsilon_{1} + 2*\\epsilon_{\\infty}) - 1))"
      ]
     },
     "execution_count": 64,
     "metadata": {},
     "output_type": "execute_result"
    }
   ],
   "source": [
    "p2 = sym.solve((p_star*(1-q_star))/(q_star*(1-p_star)) - sym.exp(eps_1), p2)\n",
    "sym.simplify(p2[-1])"
   ]
  },
  {
   "cell_type": "markdown",
   "metadata": {},
   "source": [
    "### Numerical evaluation of e1"
   ]
  },
  {
   "cell_type": "code",
   "execution_count": 65,
   "metadata": {},
   "outputs": [
    {
     "data": {
      "text/plain": [
       "(0.2500000000000314, 0.25)"
      ]
     },
     "execution_count": 65,
     "metadata": {},
     "output_type": "execute_result"
    }
   ],
   "source": [
    "# select upper and lower privacy parameters\n",
    "eps_perm = 2\n",
    "eps_1 = 0.25\n",
    "\n",
    "p1 = np.exp(eps_perm/2) / (np.exp(eps_perm/2) + 1)\n",
    "q1 = 1 - p1\n",
    "\n",
    "p2 = - (np.sqrt( (4 * np.exp(7 * eps_perm / 2) - 4 * np.exp(5 * eps_perm / 2) - 4 * np.exp(3 * eps_perm / 2) + 4 * np.exp(eps_perm / 2) + np.exp(4 * eps_perm) + 4 * np.exp(3 * eps_perm) - 10 * np.exp(2 * eps_perm) + 4 * np.exp(eps_perm) + 1) * np.exp(eps_1) ) * (np.exp(eps_1) - 1) * (np.exp(eps_perm) - 1)**2 - (np.exp(eps_1) - np.exp(2 * eps_perm) + 2 * np.exp(eps_perm) - 2 * np.exp(eps_1 + eps_perm) + np.exp(eps_1 + 2 * eps_perm) - 1) * (np.exp(3 * eps_perm / 2) - np.exp(eps_perm / 2) + np.exp(eps_perm) - np.exp(eps_1 + eps_perm / 2) - np.exp(eps_1 + eps_perm) + np.exp(eps_1 + 3 * eps_perm / 2) + np.exp(eps_1 + 2* eps_perm) -1)) / ((np.exp(eps_1) - 1) * (np.exp(eps_perm) - 1)**2 * (np.exp(eps_1) - np.exp(2 * eps_perm) + 2 * np.exp(eps_perm) - 2 * np.exp(eps_1 + eps_perm) + np.exp(eps_1 + 2 * eps_perm) - 1))\n",
    "q2 = 1 - p2\n",
    "\n",
    "#Pr[Bi'' = 1 | B_i = 1]\n",
    "p_star = p1 * p2 + (1 - p1) * q2\n",
    "\n",
    "#Pr[Bi'' = 1 | B_i = 0]\n",
    "q_star = q1 * p2 + (1 - q1) * q2\n",
    "\n",
    "np.log((p_star*(1-q_star))/(q_star*(1-p_star))), eps_1"
   ]
  },
  {
   "cell_type": "markdown",
   "metadata": {},
   "source": [
    "### General Function for L_SUE"
   ]
  },
  {
   "cell_type": "code",
   "execution_count": 66,
   "metadata": {},
   "outputs": [],
   "source": [
    "def param_L_SUE(eps_perm,eps_1):\n",
    "    \n",
    "    \"\"\"Provides the flipping probabilities p1, q1, p2, q2 of using the L-SUE protocol.\n",
    "    input: upper (eps_perm) and lower (eps_1) bound of the privacy parameter epsilon.\n",
    "    output: p1, q1, p2, q2\"\"\"\n",
    "    \n",
    "    # SUE parameters\n",
    "    p1 = np.exp(eps_perm/2) / (np.exp(eps_perm/2) + 1)\n",
    "    q1 = 1 - p1\n",
    "\n",
    "    # SUE parameters\n",
    "    p2 = - (np.sqrt( (4 * np.exp(7 * eps_perm / 2) - 4 * np.exp(5 * eps_perm / 2) - 4 * np.exp(3 * eps_perm / 2) + 4 * np.exp(eps_perm / 2) + np.exp(4 * eps_perm) + 4 * np.exp(3 * eps_perm) - 10 * np.exp(2 * eps_perm) + 4 * np.exp(eps_perm) + 1) * np.exp(eps_1) ) * (np.exp(eps_1) - 1) * (np.exp(eps_perm) - 1)**2 - (np.exp(eps_1) - np.exp(2 * eps_perm) + 2 * np.exp(eps_perm) - 2 * np.exp(eps_1 + eps_perm) + np.exp(eps_1 + 2 * eps_perm) - 1) * (np.exp(3 * eps_perm / 2) - np.exp(eps_perm / 2) + np.exp(eps_perm) - np.exp(eps_1 + eps_perm / 2) - np.exp(eps_1 + eps_perm) + np.exp(eps_1 + 3 * eps_perm / 2) + np.exp(eps_1 + 2* eps_perm) -1)) / ((np.exp(eps_1) - 1) * (np.exp(eps_perm) - 1)**2 * (np.exp(eps_1) - np.exp(2 * eps_perm) + 2 * np.exp(eps_perm) - 2 * np.exp(eps_1 + eps_perm) + np.exp(eps_1 + 2 * eps_perm) - 1))\n",
    "    q2 = 1 - p2\n",
    "\n",
    "    # numerical evaluation\n",
    "    num = (p1*p2 - q2*(p1-1)) * (-p2*q1 + q2*(q1-1)+1)\n",
    "    den = (p2*q1 - q2*(q1-1)) * (-p1*p2 + q2*(p1-1)+1)\n",
    "\n",
    "    if round(np.log(num/den),4) == eps_1:\n",
    "        if (np.array([p1, q1, p2, q2]) > 0).all():\n",
    "            return p1, q1, p2, q2\n",
    "        else: \n",
    "            raise ValueError('Probabilities are negative.')"
   ]
  },
  {
   "cell_type": "markdown",
   "metadata": {},
   "source": [
    "## Analytical study of $\\epsilon_1$ for L-SOUE"
   ]
  },
  {
   "cell_type": "code",
   "execution_count": 67,
   "metadata": {},
   "outputs": [
    {
     "data": {
      "text/latex": [
       "$\\displaystyle \\log{\\left(\\frac{\\left(q_{2} + 0.5 e^{\\frac{\\epsilon_{\\infty}}{2}}\\right) \\left(- q_{2} e^{\\frac{\\epsilon_{\\infty}}{2}} + 1.0 e^{\\frac{\\epsilon_{\\infty}}{2}} + 0.5\\right)}{\\left(q_{2} e^{\\frac{\\epsilon_{\\infty}}{2}} + 0.5\\right) \\left(- q_{2} + 0.5 e^{\\frac{\\epsilon_{\\infty}}{2}} + 1\\right)} \\right)}$"
      ],
      "text/plain": [
       "log((q2 + 0.5*exp(\\epsilon_{\\infty}/2))*(-q2*exp(\\epsilon_{\\infty}/2) + 1.0*exp(\\epsilon_{\\infty}/2) + 0.5)/((q2*exp(\\epsilon_{\\infty}/2) + 0.5)*(-q2 + 0.5*exp(\\epsilon_{\\infty}/2) + 1)))"
      ]
     },
     "execution_count": 67,
     "metadata": {},
     "output_type": "execute_result"
    }
   ],
   "source": [
    "eps_perm = sym.Symbol('\\epsilon_{\\infty}')\n",
    "eps_1 = sym.Symbol('\\epsilon_{1}')\n",
    "\n",
    "# SUE parameters\n",
    "p1 = sym.exp(eps_perm/2) / (sym.exp(eps_perm/2) + 1)\n",
    "q1 = 1 - p1\n",
    "\n",
    "# OUE parameters\n",
    "p2 = 0.5\n",
    "q2 = sym.Symbol('q2')\n",
    "\n",
    "#Pr[Bi'' = 1 | B_i = 1]\n",
    "p_star = p1 * p2 + (1 - p1) * q2\n",
    "\n",
    "#Pr[Bi'' = 1 | B_i = 0]\n",
    "q_star = q1 * p2 + (1 - q1) * q2\n",
    "\n",
    "e1 = sym.simplify(sym.log((p_star*(1-q_star))/(q_star*(1-p_star))))\n",
    "e1"
   ]
  },
  {
   "cell_type": "markdown",
   "metadata": {},
   "source": [
    "### Isolating and solving for q2 (in terms of $\\epsilon_{\\infty}$ and $\\epsilon_1$)"
   ]
  },
  {
   "cell_type": "code",
   "execution_count": 68,
   "metadata": {
    "scrolled": true
   },
   "outputs": [
    {
     "data": {
      "text/latex": [
       "$\\displaystyle \\frac{3.35410196624968 \\left(e^{\\epsilon_{1}} - 1.0\\right) \\left(e^{0.5 \\epsilon_{\\infty}} + 2.0 e^{\\epsilon_{\\infty}} + e^{1.5 \\epsilon_{\\infty}}\\right) \\sqrt{0.0111111111111111 e^{\\epsilon_{1}} + 0.00555555555555556 e^{2.0 \\epsilon_{1}} + 0.0444444444444444 e^{0.5 \\epsilon_{\\infty}} + 0.155555555555556 e^{\\epsilon_{\\infty}} + 0.311111111111111 e^{1.5 \\epsilon_{\\infty}} + 0.388888888888889 e^{2.0 \\epsilon_{\\infty}} + 0.311111111111111 e^{2.5 \\epsilon_{\\infty}} + 0.155555555555556 e^{3.0 \\epsilon_{\\infty}} + 0.0444444444444444 e^{3.5 \\epsilon_{\\infty}} + 0.00555555555555556 e^{4.0 \\epsilon_{\\infty}} - 0.222222222222222 e^{\\epsilon_{1} + \\epsilon_{\\infty}} - 0.711111111111111 e^{\\epsilon_{1} + 1.5 \\epsilon_{\\infty}} - e^{\\epsilon_{1} + 2.0 \\epsilon_{\\infty}} - 0.711111111111111 e^{\\epsilon_{1} + 2.5 \\epsilon_{\\infty}} - 0.222222222222222 e^{\\epsilon_{1} + 3.0 \\epsilon_{\\infty}} + 0.0111111111111111 e^{\\epsilon_{1} + 4.0 \\epsilon_{\\infty}} + 0.0444444444444444 e^{2.0 \\epsilon_{1} + 0.5 \\epsilon_{\\infty}} + 0.155555555555556 e^{2.0 \\epsilon_{1} + \\epsilon_{\\infty}} + 0.311111111111111 e^{2.0 \\epsilon_{1} + 1.5 \\epsilon_{\\infty}} + 0.388888888888889 e^{2.0 \\epsilon_{1} + 2.0 \\epsilon_{\\infty}} + 0.311111111111111 e^{2.0 \\epsilon_{1} + 2.5 \\epsilon_{\\infty}} + 0.155555555555556 e^{2.0 \\epsilon_{1} + 3.0 \\epsilon_{\\infty}} + 0.0444444444444444 e^{2.0 \\epsilon_{1} + 3.5 \\epsilon_{\\infty}} + 0.00555555555555556 e^{2.0 \\epsilon_{1} + 4.0 \\epsilon_{\\infty}} + 0.00555555555555556} - 0.25 \\left(e^{0.5 \\epsilon_{\\infty}} + 2.0 e^{\\epsilon_{\\infty}} + e^{1.5 \\epsilon_{\\infty}} - e^{\\epsilon_{1} + 0.5 \\epsilon_{\\infty}} - 2.0 e^{\\epsilon_{1} + \\epsilon_{\\infty}} - e^{\\epsilon_{1} + 1.5 \\epsilon_{\\infty}}\\right) \\left(e^{\\epsilon_{1}} + 4.0 e^{0.5 \\epsilon_{\\infty}} + 4.0 e^{\\epsilon_{\\infty}} - e^{2.0 \\epsilon_{\\infty}} - 4.0 e^{\\epsilon_{1} + \\epsilon_{\\infty}} - 4.0 e^{\\epsilon_{1} + 1.5 \\epsilon_{\\infty}} - e^{\\epsilon_{1} + 2.0 \\epsilon_{\\infty}} + 1.0\\right)}{\\left(e^{\\epsilon_{1}} - 1.0\\right) \\left(e^{0.5 \\epsilon_{\\infty}} + 2.0 e^{\\epsilon_{\\infty}} + e^{1.5 \\epsilon_{\\infty}}\\right) \\left(e^{0.5 \\epsilon_{\\infty}} + 2.0 e^{\\epsilon_{\\infty}} + e^{1.5 \\epsilon_{\\infty}} - e^{\\epsilon_{1} + 0.5 \\epsilon_{\\infty}} - 2.0 e^{\\epsilon_{1} + \\epsilon_{\\infty}} - e^{\\epsilon_{1} + 1.5 \\epsilon_{\\infty}}\\right)}$"
      ],
      "text/plain": [
       "(3.35410196624968*(exp(\\epsilon_{1}) - 1.0)*(exp(0.5*\\epsilon_{\\infty}) + 2.0*exp(\\epsilon_{\\infty}) + exp(1.5*\\epsilon_{\\infty}))*sqrt(0.0111111111111111*exp(\\epsilon_{1}) + 0.00555555555555556*exp(2.0*\\epsilon_{1}) + 0.0444444444444444*exp(0.5*\\epsilon_{\\infty}) + 0.155555555555556*exp(\\epsilon_{\\infty}) + 0.311111111111111*exp(1.5*\\epsilon_{\\infty}) + 0.388888888888889*exp(2.0*\\epsilon_{\\infty}) + 0.311111111111111*exp(2.5*\\epsilon_{\\infty}) + 0.155555555555556*exp(3.0*\\epsilon_{\\infty}) + 0.0444444444444444*exp(3.5*\\epsilon_{\\infty}) + 0.00555555555555556*exp(4.0*\\epsilon_{\\infty}) - 0.222222222222222*exp(\\epsilon_{1} + \\epsilon_{\\infty}) - 0.711111111111111*exp(\\epsilon_{1} + 1.5*\\epsilon_{\\infty}) - exp(\\epsilon_{1} + 2.0*\\epsilon_{\\infty}) - 0.711111111111111*exp(\\epsilon_{1} + 2.5*\\epsilon_{\\infty}) - 0.222222222222222*exp(\\epsilon_{1} + 3.0*\\epsilon_{\\infty}) + 0.0111111111111111*exp(\\epsilon_{1} + 4.0*\\epsilon_{\\infty}) + 0.0444444444444444*exp(2.0*\\epsilon_{1} + 0.5*\\epsilon_{\\infty}) + 0.155555555555556*exp(2.0*\\epsilon_{1} + \\epsilon_{\\infty}) + 0.311111111111111*exp(2.0*\\epsilon_{1} + 1.5*\\epsilon_{\\infty}) + 0.388888888888889*exp(2.0*\\epsilon_{1} + 2.0*\\epsilon_{\\infty}) + 0.311111111111111*exp(2.0*\\epsilon_{1} + 2.5*\\epsilon_{\\infty}) + 0.155555555555556*exp(2.0*\\epsilon_{1} + 3.0*\\epsilon_{\\infty}) + 0.0444444444444444*exp(2.0*\\epsilon_{1} + 3.5*\\epsilon_{\\infty}) + 0.00555555555555556*exp(2.0*\\epsilon_{1} + 4.0*\\epsilon_{\\infty}) + 0.00555555555555556) - 0.25*(exp(0.5*\\epsilon_{\\infty}) + 2.0*exp(\\epsilon_{\\infty}) + exp(1.5*\\epsilon_{\\infty}) - exp(\\epsilon_{1} + 0.5*\\epsilon_{\\infty}) - 2.0*exp(\\epsilon_{1} + \\epsilon_{\\infty}) - exp(\\epsilon_{1} + 1.5*\\epsilon_{\\infty}))*(exp(\\epsilon_{1}) + 4.0*exp(0.5*\\epsilon_{\\infty}) + 4.0*exp(\\epsilon_{\\infty}) - exp(2.0*\\epsilon_{\\infty}) - 4.0*exp(\\epsilon_{1} + \\epsilon_{\\infty}) - 4.0*exp(\\epsilon_{1} + 1.5*\\epsilon_{\\infty}) - exp(\\epsilon_{1} + 2.0*\\epsilon_{\\infty}) + 1.0))/((exp(\\epsilon_{1}) - 1.0)*(exp(0.5*\\epsilon_{\\infty}) + 2.0*exp(\\epsilon_{\\infty}) + exp(1.5*\\epsilon_{\\infty}))*(exp(0.5*\\epsilon_{\\infty}) + 2.0*exp(\\epsilon_{\\infty}) + exp(1.5*\\epsilon_{\\infty}) - exp(\\epsilon_{1} + 0.5*\\epsilon_{\\infty}) - 2.0*exp(\\epsilon_{1} + \\epsilon_{\\infty}) - exp(\\epsilon_{1} + 1.5*\\epsilon_{\\infty})))"
      ]
     },
     "execution_count": 68,
     "metadata": {},
     "output_type": "execute_result"
    }
   ],
   "source": [
    "q2 = sym.solve((p_star*(1-q_star))/(q_star*(1-p_star)) - sym.exp(eps_1), q2)\n",
    "sym.simplify(q2[-1])"
   ]
  },
  {
   "cell_type": "markdown",
   "metadata": {},
   "source": [
    "### Numerical evaluation of e1"
   ]
  },
  {
   "cell_type": "code",
   "execution_count": 69,
   "metadata": {},
   "outputs": [
    {
     "data": {
      "text/plain": [
       "(0.4000000000000021, 0.4)"
      ]
     },
     "execution_count": 69,
     "metadata": {},
     "output_type": "execute_result"
    }
   ],
   "source": [
    "# select upper and lower privacy parameters\n",
    "eps_perm = 0.7423\n",
    "eps_1 = 0.4\n",
    "\n",
    "# SUE parameters\n",
    "p1 = np.exp(eps_perm/2) / (np.exp(eps_perm/2) + 1)\n",
    "q1 = 1 - p1\n",
    "\n",
    "# OUE parameters\n",
    "p2 = 0.5\n",
    "q2 = (3.35410196624968 * (np.exp(eps_1) - 1) * (np.exp(0.5 * eps_perm) + 2 * np.exp(eps_perm) + np.exp(1.5 * eps_perm)) * np.sqrt(0.0111111111111111 * np.exp(eps_1) + 0.00555555555555556 * np.exp(2 * eps_1) + 0.0444444444444444 * np.exp(0.5 * eps_perm) + 0.155555555555556 * np.exp(eps_perm) + 0.311111111111111 * np.exp(1.5 * eps_perm) + 0.388888888888889 * np.exp(2 * eps_perm) + 0.311111111111111 * np.exp(2.5 * eps_perm) + 0.155555555555556 * np.exp(3 * eps_perm) + 0.0444444444444444 * np.exp(3.5 * eps_perm) + 0.00555555555555556 * np.exp(4 * eps_perm) - 0.222222222222222 * np.exp(eps_1 + eps_perm) - 0.711111111111111 * np.exp(eps_1 + 1.5 * eps_perm) - np.exp(eps_1 + 2 * eps_perm) - 0.711111111111111 * np.exp(eps_1 + 2.5 * eps_perm) - 0.222222222222222 * np.exp(eps_1 + 3 * eps_perm) + 0.0111111111111111 * np.exp(eps_1 + 4 * eps_perm) + 0.0444444444444444 * np.exp(2 * eps_1 + 0.5 * eps_perm) + 0.155555555555556 * np.exp(2 * eps_1 + eps_perm) + 0.311111111111111 * np.exp(2 * eps_1 + 1.5 * eps_perm) + 0.388888888888889 * np.exp(2 * eps_1 + 2 * eps_perm) + 0.311111111111111 * np.exp(2 * eps_1 + 2.5 * eps_perm) + 0.155555555555556 * np.exp(2 * eps_1 + 3 * eps_perm) + 0.0444444444444444 * np.exp(2 * eps_1 + 3.5 * eps_perm) + 0.00555555555555556 * np.exp(2 * eps_1 + 4 * eps_perm) + 0.00555555555555556) - 0.25 * (np.exp(0.5 * eps_perm) + 2 * np.exp(eps_perm) + np.exp(1.5 * eps_perm) - np.exp(eps_1 + 0.5 * eps_perm) - 2 * np.exp(eps_1 + eps_perm) - np.exp(eps_1 + 1.5 * eps_perm)) * (np.exp(eps_1) + 4 * np.exp(0.5 * eps_perm) + 4 * np.exp(eps_perm) - np.exp(2 * eps_perm) - 4 * np.exp(eps_1 + eps_perm) - 4 * np.exp(eps_1 + 1.5 * eps_perm) - np.exp(eps_1 + 2 * eps_perm) + 1)) / ((np.exp(eps_1) - 1) * (np.exp(0.5 * eps_perm) + 2 * np.exp(eps_perm) + np.exp(1.5 * eps_perm)) * (np.exp(0.5 * eps_perm) + 2 * np.exp(eps_perm) + np.exp(1.5 * eps_perm) - np.exp(eps_1 + 0.5 * eps_perm) - 2 * np.exp(eps_1 + eps_perm) - np.exp(eps_1 + 1.5 * eps_perm)))\n",
    "\n",
    "#Pr[Bi'' = 1 | B_i = 1]\n",
    "p_star = p1 * p2 + (1 - p1) * q2\n",
    "\n",
    "#Pr[Bi'' = 1 | B_i = 0]\n",
    "q_star = q1 * p2 + (1 - q1) * q2\n",
    "\n",
    "np.log((p_star*(1-q_star))/(q_star*(1-p_star))), eps_1"
   ]
  },
  {
   "cell_type": "markdown",
   "metadata": {},
   "source": [
    "### General Function for L_SOUE"
   ]
  },
  {
   "cell_type": "code",
   "execution_count": 70,
   "metadata": {},
   "outputs": [],
   "source": [
    "def param_L_SOUE(eps_perm, eps_1):\n",
    "    \n",
    "    \"\"\"Provides the flipping probabilities p1, q1, p2, q2 of using the L-SOUE protocol.\n",
    "    input: upper (eps_perm) and lower (eps_1) bound of the privacy parameter epsilon.\n",
    "    output: p1, q1, p2, q2\"\"\"\n",
    "    \n",
    "    # SUE parameters\n",
    "    p1 = np.exp(eps_perm/2) / (np.exp(eps_perm/2) + 1)\n",
    "    q1 = 1 - p1\n",
    "\n",
    "    # OUE parameters\n",
    "    p2 = 0.5\n",
    "    q2 = (3.35410196624968 * (np.exp(eps_1) - 1) * (np.exp(0.5 * eps_perm) + 2 * np.exp(eps_perm) + np.exp(1.5 * eps_perm)) * np.sqrt(0.0111111111111111 * np.exp(eps_1) + 0.00555555555555556 * np.exp(2 * eps_1) + 0.0444444444444444 * np.exp(0.5 * eps_perm) + 0.155555555555556 * np.exp(eps_perm) + 0.311111111111111 * np.exp(1.5 * eps_perm) + 0.388888888888889 * np.exp(2 * eps_perm) + 0.311111111111111 * np.exp(2.5 * eps_perm) + 0.155555555555556 * np.exp(3 * eps_perm) + 0.0444444444444444 * np.exp(3.5 * eps_perm) + 0.00555555555555556 * np.exp(4 * eps_perm) - 0.222222222222222 * np.exp(eps_1 + eps_perm) - 0.711111111111111 * np.exp(eps_1 + 1.5 * eps_perm) - np.exp(eps_1 + 2 * eps_perm) - 0.711111111111111 * np.exp(eps_1 + 2.5 * eps_perm) - 0.222222222222222 * np.exp(eps_1 + 3 * eps_perm) + 0.0111111111111111 * np.exp(eps_1 + 4 * eps_perm) + 0.0444444444444444 * np.exp(2 * eps_1 + 0.5 * eps_perm) + 0.155555555555556 * np.exp(2 * eps_1 + eps_perm) + 0.311111111111111 * np.exp(2 * eps_1 + 1.5 * eps_perm) + 0.388888888888889 * np.exp(2 * eps_1 + 2 * eps_perm) + 0.311111111111111 * np.exp(2 * eps_1 + 2.5 * eps_perm) + 0.155555555555556 * np.exp(2 * eps_1 + 3 * eps_perm) + 0.0444444444444444 * np.exp(2 * eps_1 + 3.5 * eps_perm) + 0.00555555555555556 * np.exp(2 * eps_1 + 4 * eps_perm) + 0.00555555555555556) - 0.25 * (np.exp(0.5 * eps_perm) + 2 * np.exp(eps_perm) + np.exp(1.5 * eps_perm) - np.exp(eps_1 + 0.5 * eps_perm) - 2 * np.exp(eps_1 + eps_perm) - np.exp(eps_1 + 1.5 * eps_perm)) * (np.exp(eps_1) + 4 * np.exp(0.5 * eps_perm) + 4 * np.exp(eps_perm) - np.exp(2 * eps_perm) - 4 * np.exp(eps_1 + eps_perm) - 4 * np.exp(eps_1 + 1.5 * eps_perm) - np.exp(eps_1 + 2 * eps_perm) + 1)) / ((np.exp(eps_1) - 1) * (np.exp(0.5 * eps_perm) + 2 * np.exp(eps_perm) + np.exp(1.5 * eps_perm)) * (np.exp(0.5 * eps_perm) + 2 * np.exp(eps_perm) + np.exp(1.5 * eps_perm) - np.exp(eps_1 + 0.5 * eps_perm) - 2 * np.exp(eps_1 + eps_perm) - np.exp(eps_1 + 1.5 * eps_perm)))\n",
    "\n",
    "    # numerical evaluation\n",
    "    num = (p1*p2 - q2*(p1-1)) * (-p2*q1 + q2*(q1-1)+1)\n",
    "    den = (p2*q1 - q2*(q1-1)) * (-p1*p2 + q2*(p1-1)+1)\n",
    "\n",
    "    if round(np.log(num/den),4) == eps_1:\n",
    "        if (np.array([p1, q1, p2, q2]) > 0).all():\n",
    "            return p1, q1, p2, q2\n",
    "        else: \n",
    "            print(p1, q1, p2, q2)\n",
    "            raise ValueError('Probabilities are negative.')"
   ]
  },
  {
   "cell_type": "markdown",
   "metadata": {},
   "source": [
    "# LONGITUDINAL GRR (L-GRR)"
   ]
  },
  {
   "attachments": {
    "image.png": {
     "image/png": "[encoded data removed]"
    }
   },
   "cell_type": "markdown",
   "metadata": {},
   "source": [
    "![image.png](attachment:image.png)"
   ]
  },
  {
   "cell_type": "markdown",
   "metadata": {},
   "source": [
    "## Calculus of $\\epsilon_1$"
   ]
  },
  {
   "cell_type": "code",
   "execution_count": 71,
   "metadata": {},
   "outputs": [
    {
     "data": {
      "text/latex": [
       "$\\displaystyle \\log{\\left(\\frac{p_{1} p_{2} + q_{1} q_{2}}{p_{1} q_{2} + p_{2} q_{1}} \\right)}$"
      ],
      "text/plain": [
       "log((p1*p2 + q1*q2)/(p1*q2 + p2*q1))"
      ]
     },
     "execution_count": 71,
     "metadata": {},
     "output_type": "execute_result"
    }
   ],
   "source": [
    "p1 = sym.Symbol('p1')\n",
    "p2 = sym.Symbol('p2')\n",
    "q1 = sym.Symbol('q1')\n",
    "q2 = sym.Symbol('q2')\n",
    "\n",
    "#Pr[B'' = vi | B = vi]\n",
    "ps = p1 * p2 + q1 * q2\n",
    "\n",
    "#Pr[B'' = vi | B != vi]\n",
    "qs = p1 * q2 + q1 * p2\n",
    "\n",
    "e1 = sym.log(ps/qs)\n",
    "e1"
   ]
  },
  {
   "cell_type": "markdown",
   "metadata": {},
   "source": [
    "## Analytical study of $\\epsilon_1$ for L-GRR"
   ]
  },
  {
   "cell_type": "code",
   "execution_count": 72,
   "metadata": {},
   "outputs": [
    {
     "data": {
      "text/latex": [
       "$\\displaystyle \\frac{e^{\\epsilon_{1} + \\epsilon_{\\infty}} - 1}{- k e^{\\epsilon_{1}} + \\left(k - 1\\right) e^{\\epsilon_{\\infty}} + e^{\\epsilon_{1}} + e^{\\epsilon_{1} + \\epsilon_{\\infty}} - 1}$"
      ],
      "text/plain": [
       "(exp(\\epsilon_{1} + \\epsilon_{\\infty}) - 1)/(-k*exp(\\epsilon_{1}) + (k - 1)*exp(\\epsilon_{\\infty}) + exp(\\epsilon_{1}) + exp(\\epsilon_{1} + \\epsilon_{\\infty}) - 1)"
      ]
     },
     "execution_count": 72,
     "metadata": {},
     "output_type": "execute_result"
    }
   ],
   "source": [
    "# privacy guarantees\n",
    "eps_perm = sym.Symbol('\\epsilon_{\\infty}')\n",
    "eps_1 = sym.Symbol('\\epsilon_{1}')\n",
    "\n",
    "# domain size of attribute\n",
    "k = sym.Symbol('k')\n",
    "\n",
    "# GRR parameters\n",
    "p1 = sym.exp(eps_perm) / (sym.exp(eps_perm) + k - 1)\n",
    "q1 = (1 - p1) / (k - 1)\n",
    "\n",
    "# 1-order equation to find p2\n",
    "num = q1 - sym.exp(eps_1) * p1\n",
    "den = (-p1 * sym.exp(eps_1)) + k*q1*sym.exp(eps_1) - q1*sym.exp(eps_1) - p1*(k-1)+q1\n",
    "\n",
    "p2 = num/den\n",
    "q2 = (1 - p2) / (k-1)\n",
    "sym.simplify(p2)"
   ]
  },
  {
   "cell_type": "markdown",
   "metadata": {},
   "source": [
    "### Validation: $e^{\\epsilon_1}$ == $e^{\\epsilon_1}$ ?"
   ]
  },
  {
   "cell_type": "code",
   "execution_count": 73,
   "metadata": {},
   "outputs": [
    {
     "data": {
      "text/latex": [
       "$\\displaystyle e^{\\epsilon_{1}}$"
      ],
      "text/plain": [
       "exp(\\epsilon_{1})"
      ]
     },
     "execution_count": 73,
     "metadata": {},
     "output_type": "execute_result"
    }
   ],
   "source": [
    "ps = p1 * p2 + q1 * q2\n",
    "qs = p1 * q2 + q1 * p2\n",
    "\n",
    "sym.simplify(ps/qs)"
   ]
  },
  {
   "cell_type": "markdown",
   "metadata": {},
   "source": [
    "### Numerical evaluation of e1"
   ]
  },
  {
   "cell_type": "code",
   "execution_count": 74,
   "metadata": {},
   "outputs": [
    {
     "data": {
      "text/plain": [
       "(0.3420999999999999, 0.3421)"
      ]
     },
     "execution_count": 74,
     "metadata": {},
     "output_type": "execute_result"
    }
   ],
   "source": [
    "# domain size\n",
    "k = 100\n",
    "\n",
    "# select upper and lower privacy parameters\n",
    "e_inf = 1\n",
    "e_1 = 0.3421\n",
    "\n",
    "# GRR parameters\n",
    "p1 = np.exp(e_inf) / (np.exp(e_inf) + k - 1)\n",
    "q1 = (1-p1)/(k-1)\n",
    "\n",
    "# GRR parameters\n",
    "p2 = (np.exp(e_inf + e_1) - 1) / (-k * np.exp(e_1) + (k-1)*np.exp(e_inf) + np.exp(e_1) + np.exp(e_inf + e_1) - 1)\n",
    "q2 = (1-p2)/(k-1)\n",
    "\n",
    "#Pr[B'' = vi | B = vi]\n",
    "ps = p1 * p2 + q1 * q2\n",
    "\n",
    "#Pr[B'' = vi | B != vi]\n",
    "qs = p1 * q2 + q1 * p2\n",
    "\n",
    "np.log(ps/qs), e_1"
   ]
  },
  {
   "cell_type": "markdown",
   "metadata": {},
   "source": [
    "### General Function for L_GRR"
   ]
  },
  {
   "cell_type": "code",
   "execution_count": 75,
   "metadata": {},
   "outputs": [],
   "source": [
    "def param_L_GRR(eps_perm, eps_1, k):\n",
    "    \n",
    "    \"\"\"Provides the flipping probabilities p1, q1, p2, q2 of using the L-GRR protocol.\n",
    "    input: upper (eps_perm) and lower (eps_1) bound of the privacy parameter epsilon.\n",
    "    output: p1, q1, p2, q2\"\"\"\n",
    "    \n",
    "    # GRR parameters\n",
    "    p1 = np.exp(eps_perm) / (np.exp(eps_perm) + k - 1)\n",
    "    q1 = (1 - p1) / (k - 1)\n",
    "\n",
    "    # GRR parameters\n",
    "    num = q1 - np.exp(eps_1) * p1\n",
    "    den = (-p1 * np.exp(eps_1)) + k*q1*np.exp(eps_1) - q1*np.exp(eps_1) - p1*(k-1)+q1\n",
    "\n",
    "    p2 = num/den\n",
    "    q2 = (1 - p2) / (k-1)\n",
    "\n",
    "    num = p1 * p2 + q1 * q2\n",
    "    den = p1 * q2 + q1 * p2\n",
    "\n",
    "    if round(np.log(num/den), 4) == eps_1:\n",
    "        if (np.array([p1, q1, p2, q2]) >= 0).all():\n",
    "            return p1, q1, p2, q2\n",
    "        else: \n",
    "            raise ValueError('Probabilities are negative.')"
   ]
  },
  {
   "cell_type": "markdown",
   "metadata": {},
   "source": [
    "# Analysis of unbiased frequency estimation and variances"
   ]
  },
  {
   "cell_type": "markdown",
   "metadata": {},
   "source": [
    "## Estimator - Eq (9) in the paper"
   ]
  },
  {
   "cell_type": "code",
   "execution_count": 76,
   "metadata": {},
   "outputs": [
    {
     "name": "stdout",
     "output_type": "stream",
     "text": [
      "estimator:\n"
     ]
    },
    {
     "data": {
      "text/latex": [
       "$\\displaystyle \\frac{Ni - n q_{1} \\left(p_{2} - q_{2}\\right) - n q_{2}}{n \\left(p_{1} - q_{1}\\right) \\left(p_{2} - q_{2}\\right)}$"
      ],
      "text/plain": [
       "(Ni - n*q1*(p2 - q2) - n*q2)/(n*(p1 - q1)*(p2 - q2))"
      ]
     },
     "execution_count": 76,
     "metadata": {},
     "output_type": "execute_result"
    }
   ],
   "source": [
    "p1 = sym.Symbol('p1')\n",
    "p2 = sym.Symbol('p2')\n",
    "q1 = sym.Symbol('q1')\n",
    "q2 = sym.Symbol('q2')\n",
    "n = sym.Symbol('n')\n",
    "Ni = sym.Symbol('Ni')\n",
    "\n",
    "print('estimator:')\n",
    "f_L = sym.simplify((Ni-n*q2)/(p2-q2) - n*q1)/(n*(p1-q1))\n",
    "f_L"
   ]
  },
  {
   "cell_type": "markdown",
   "metadata": {},
   "source": [
    "## Expectation of the estimator in Eq (9)"
   ]
  },
  {
   "cell_type": "code",
   "execution_count": 77,
   "metadata": {},
   "outputs": [
    {
     "data": {
      "text/latex": [
       "$\\displaystyle f$"
      ],
      "text/plain": [
       "f"
      ]
     },
     "execution_count": 77,
     "metadata": {},
     "output_type": "execute_result"
    }
   ],
   "source": [
    "p1 = sym.Symbol('p1')\n",
    "p2 = sym.Symbol('p2')\n",
    "\n",
    "q1 = sym.Symbol('q1')\n",
    "q2 = sym.Symbol('q2')\n",
    "n = sym.Symbol('n')\n",
    "f = sym.Symbol('f')\n",
    "\n",
    "E_n = n*f*(p1*p2 + (1-p1)*q2) + (n - n*f) * (q1*p2 + (1-q1)*q2)\n",
    "E_fl = (E_n - n*q1*(p2 - q2) - n*q2) / (n*(p1 - q1) * (p2 - q2))\n",
    "sym.simplify(E_fl)"
   ]
  },
  {
   "cell_type": "markdown",
   "metadata": {},
   "source": [
    "The expected value converges to f(vi), i.e., unbiased estimation"
   ]
  },
  {
   "cell_type": "markdown",
   "metadata": {},
   "source": [
    "# Variance of the estimator in Eq (9)"
   ]
  },
  {
   "cell_type": "code",
   "execution_count": 78,
   "metadata": {},
   "outputs": [
    {
     "data": {
      "text/latex": [
       "$\\displaystyle \\frac{\\left(p_{2} q_{1} - q_{2} \\left(q_{1} - 1\\right)\\right) \\left(- p_{2} q_{1} + q_{2} \\left(q_{1} - 1\\right) + 1\\right)}{n \\left(p_{1} - q_{1}\\right)^{2} \\left(p_{2} - q_{2}\\right)^{2}}$"
      ],
      "text/plain": [
       "(p2*q1 - q2*(q1 - 1))*(-p2*q1 + q2*(q1 - 1) + 1)/(n*(p1 - q1)**2*(p2 - q2)**2)"
      ]
     },
     "execution_count": 78,
     "metadata": {},
     "output_type": "execute_result"
    }
   ],
   "source": [
    "p1 = sym.Symbol('p1')\n",
    "p2 = sym.Symbol('p2')\n",
    "\n",
    "q1 = sym.Symbol('q1')\n",
    "q2 = sym.Symbol('q2')\n",
    "n = sym.Symbol('n')\n",
    "# f = sym.Symbol('f')\n",
    "\n",
    "# approximate variance with f = 0\n",
    "f = 0\n",
    "\n",
    "sig = q1*p2 + (1 - q1) * q2 + f*(((p1*p2) - p1*(1-p2)) + (q2*(1-p1) - (1-q2)*(1-p1)))\n",
    "    \n",
    "sym.simplify((sig * (1 - sig)) / (n * (p1 - q1)**2 * (p2 - q2)**2))"
   ]
  },
  {
   "cell_type": "code",
   "execution_count": 79,
   "metadata": {},
   "outputs": [],
   "source": [
    "def Var_f_L(p1, q1, p2, q2, n = 10000):       \n",
    "    \n",
    "    f = 0 # approximate variance\n",
    "    \n",
    "    sig = q1*p2 + (1 - q1) * q2 + f*(((p1*p2) - p1*(1-p2)) + (q2*(1-p1) - (1-q2)*(1-p1)))\n",
    "    \n",
    "    return (sig * (1 - sig)) / (n * (p1 - q1)**2 * (p2 - q2)**2)"
   ]
  },
  {
   "cell_type": "markdown",
   "metadata": {},
   "source": [
    "## Numerical evaluation (Section IV.D of the paper)"
   ]
  },
  {
   "cell_type": "code",
   "execution_count": 80,
   "metadata": {},
   "outputs": [],
   "source": [
    "# upper bound, i.e., eps_inf\n",
    "lst_eps = [0.5, 1, 2, 4]\n",
    "\n",
    "# percentage for selecting lower bound, i.e., e1 = perc * eps_inf\n",
    "lst_perc = [0.6, 0.5, 0.4, 0.3, 0.2, 0.1]\n",
    "\n",
    "# domain size for L-GRR\n",
    "lst_k = [2, 32, 2**10]\n",
    "\n",
    "dic_var = {perc:[] for perc in lst_perc}\n",
    "\n",
    "# Round variance values with 6 digits\n",
    "round_value = 6\n",
    "\n",
    "for perc_inst in lst_perc:                    \n",
    "    \n",
    "    for eps_perm in lst_eps:\n",
    "        \n",
    "        # list of variance values\n",
    "        lst_var_eps = []\n",
    "        \n",
    "        eps_1 = round(perc_inst * eps_perm, 4)\n",
    "        \n",
    "        # Appending L-GRR variances\n",
    "        for k in lst_k: \n",
    "            p1,q1,p2,q2 = param_L_GRR(eps_perm, eps_1, k)\n",
    "            lst_var_eps.append(float(round(Var_f_L(p1,q1,p2,q2), round_value)))\n",
    "        \n",
    "        # Appending L-OSUE variances\n",
    "        try: \n",
    "            p1,q1,p2,q2 = param_L_OSUE(eps_perm, eps_1)\n",
    "            lst_var_eps.append(round(Var_f_L(p1,q1,p2,q2), round_value))\n",
    "        except:\n",
    "            lst_var_eps.append('NC')\n",
    "        \n",
    "        # Appending L-SUE variances\n",
    "        try: \n",
    "            p1,q1,p2,q2 = param_L_SUE(eps_perm, eps_1)\n",
    "            lst_var_eps.append(round(Var_f_L(p1,q1,p2,q2), round_value))\n",
    "        except:\n",
    "            lst_var_eps.append('NC')        \n",
    "        \n",
    "        # Appending L-SOUE variances\n",
    "        try: \n",
    "            p1,q1,p2,q2 = param_L_SOUE(eps_perm, eps_1)\n",
    "            lst_var_eps.append(round(Var_f_L(p1,q1,p2,q2), round_value))\n",
    "        except:\n",
    "            lst_var_eps.append('NC')          \n",
    "        \n",
    "        # Appending L-OUE variances\n",
    "        try: \n",
    "            p1,q1,p2,q2 = param_L_OUE(eps_perm, eps_1)  \n",
    "            lst_var_eps.append(round(Var_f_L(p1,q1,p2,q2), round_value))\n",
    "        except:\n",
    "            lst_var_eps.append('NC')\n",
    "\n",
    "        dic_var[perc_inst].append(lst_var_eps)"
   ]
  },
  {
   "cell_type": "markdown",
   "metadata": {},
   "source": [
    "## Check variance values"
   ]
  },
  {
   "cell_type": "code",
   "execution_count": 81,
   "metadata": {
    "scrolled": true
   },
   "outputs": [
    {
     "data": {
      "text/html": [
       "<div>\n",
       "<style scoped>\n",
       "    .dataframe tbody tr th:only-of-type {\n",
       "        vertical-align: middle;\n",
       "    }\n",
       "\n",
       "    .dataframe tbody tr th {\n",
       "        vertical-align: top;\n",
       "    }\n",
       "\n",
       "    .dataframe thead th {\n",
       "        text-align: right;\n",
       "    }\n",
       "</style>\n",
       "<table border=\"1\" class=\"dataframe\">\n",
       "  <thead>\n",
       "    <tr style=\"text-align: right;\">\n",
       "      <th></th>\n",
       "      <th></th>\n",
       "      <th>L-GRR(k=2)</th>\n",
       "      <th>L-GRR(k=32)</th>\n",
       "      <th>L-GRR(k=$2^{10}$)</th>\n",
       "      <th>L-OSUE</th>\n",
       "      <th>L-SUE</th>\n",
       "      <th>L-SOUE</th>\n",
       "      <th>L-OUE</th>\n",
       "    </tr>\n",
       "    <tr>\n",
       "      <th>perc</th>\n",
       "      <th>eps_1</th>\n",
       "      <th></th>\n",
       "      <th></th>\n",
       "      <th></th>\n",
       "      <th></th>\n",
       "      <th></th>\n",
       "      <th></th>\n",
       "      <th></th>\n",
       "    </tr>\n",
       "  </thead>\n",
       "  <tbody>\n",
       "    <tr>\n",
       "      <th rowspan=\"4\" valign=\"top\">0.6</th>\n",
       "      <th>0.30</th>\n",
       "      <td>0.001103</td>\n",
       "      <td>0.980969</td>\n",
       "      <td>26706.64042</td>\n",
       "      <td>0.004411</td>\n",
       "      <td>0.004436</td>\n",
       "      <td>0.005306</td>\n",
       "      <td>0.005549</td>\n",
       "    </tr>\n",
       "    <tr>\n",
       "      <th>0.60</th>\n",
       "      <td>0.000270</td>\n",
       "      <td>0.125036</td>\n",
       "      <td>3153.91118</td>\n",
       "      <td>0.001078</td>\n",
       "      <td>0.001103</td>\n",
       "      <td>0.001234</td>\n",
       "      <td>0.001347</td>\n",
       "    </tr>\n",
       "    <tr>\n",
       "      <th>1.20</th>\n",
       "      <td>0.000062</td>\n",
       "      <td>0.006327</td>\n",
       "      <td>117.36989</td>\n",
       "      <td>0.000247</td>\n",
       "      <td>0.000270</td>\n",
       "      <td>0.000264</td>\n",
       "      <td>0.000310</td>\n",
       "    </tr>\n",
       "    <tr>\n",
       "      <th>2.40</th>\n",
       "      <td>0.000011</td>\n",
       "      <td>0.000078</td>\n",
       "      <td>0.25903</td>\n",
       "      <td>0.000044</td>\n",
       "      <td>0.000062</td>\n",
       "      <td>0.000045</td>\n",
       "      <td>0.000057</td>\n",
       "    </tr>\n",
       "    <tr>\n",
       "      <th rowspan=\"4\" valign=\"top\">0.5</th>\n",
       "      <th>0.25</th>\n",
       "      <td>0.001592</td>\n",
       "      <td>2.088372</td>\n",
       "      <td>60218.72092</td>\n",
       "      <td>0.006367</td>\n",
       "      <td>0.006392</td>\n",
       "      <td>0.007336</td>\n",
       "      <td>0.007611</td>\n",
       "    </tr>\n",
       "    <tr>\n",
       "      <th>0.50</th>\n",
       "      <td>0.000392</td>\n",
       "      <td>0.268074</td>\n",
       "      <td>7198.83434</td>\n",
       "      <td>0.001567</td>\n",
       "      <td>0.001592</td>\n",
       "      <td>0.001740</td>\n",
       "      <td>0.001872</td>\n",
       "    </tr>\n",
       "    <tr>\n",
       "      <th>1.00</th>\n",
       "      <td>0.000092</td>\n",
       "      <td>0.013926</td>\n",
       "      <td>281.04330</td>\n",
       "      <td>0.000368</td>\n",
       "      <td>0.000392</td>\n",
       "      <td>0.000389</td>\n",
       "      <td>0.000447</td>\n",
       "    </tr>\n",
       "    <tr>\n",
       "      <th>2.00</th>\n",
       "      <td>0.000018</td>\n",
       "      <td>0.000188</td>\n",
       "      <td>0.74088</td>\n",
       "      <td>0.000072</td>\n",
       "      <td>0.000092</td>\n",
       "      <td>0.000073</td>\n",
       "      <td>0.000092</td>\n",
       "    </tr>\n",
       "    <tr>\n",
       "      <th rowspan=\"4\" valign=\"top\">0.4</th>\n",
       "      <th>0.20</th>\n",
       "      <td>0.002492</td>\n",
       "      <td>4.530779</td>\n",
       "      <td>135874.24278</td>\n",
       "      <td>0.009967</td>\n",
       "      <td>0.009992</td>\n",
       "      <td>0.011012</td>\n",
       "      <td>0.011324</td>\n",
       "    </tr>\n",
       "    <tr>\n",
       "      <th>0.40</th>\n",
       "      <td>0.000617</td>\n",
       "      <td>0.586823</td>\n",
       "      <td>16443.91803</td>\n",
       "      <td>0.002467</td>\n",
       "      <td>0.002492</td>\n",
       "      <td>0.002658</td>\n",
       "      <td>0.002812</td>\n",
       "    </tr>\n",
       "    <tr>\n",
       "      <th>0.80</th>\n",
       "      <td>0.000148</td>\n",
       "      <td>0.031552</td>\n",
       "      <td>673.74545</td>\n",
       "      <td>0.000593</td>\n",
       "      <td>0.000617</td>\n",
       "      <td>0.000617</td>\n",
       "      <td>0.000690</td>\n",
       "    </tr>\n",
       "    <tr>\n",
       "      <th>1.60</th>\n",
       "      <td>0.000032</td>\n",
       "      <td>0.000484</td>\n",
       "      <td>2.12772</td>\n",
       "      <td>0.000127</td>\n",
       "      <td>0.000148</td>\n",
       "      <td>0.000128</td>\n",
       "      <td>0.000156</td>\n",
       "    </tr>\n",
       "    <tr>\n",
       "      <th rowspan=\"4\" valign=\"top\">0.3</th>\n",
       "      <th>0.15</th>\n",
       "      <td>0.004436</td>\n",
       "      <td>10.689842</td>\n",
       "      <td>329836.44067</td>\n",
       "      <td>0.017744</td>\n",
       "      <td>0.017769</td>\n",
       "      <td>0.018863</td>\n",
       "      <td>0.019214</td>\n",
       "    </tr>\n",
       "    <tr>\n",
       "      <th>0.30</th>\n",
       "      <td>0.001103</td>\n",
       "      <td>1.398568</td>\n",
       "      <td>40412.79198</td>\n",
       "      <td>0.004411</td>\n",
       "      <td>0.004436</td>\n",
       "      <td>0.004620</td>\n",
       "      <td>0.004799</td>\n",
       "    </tr>\n",
       "    <tr>\n",
       "      <th>0.60</th>\n",
       "      <td>0.000270</td>\n",
       "      <td>0.078202</td>\n",
       "      <td>1737.75675</td>\n",
       "      <td>0.001078</td>\n",
       "      <td>0.001103</td>\n",
       "      <td>0.001106</td>\n",
       "      <td>0.001198</td>\n",
       "    </tr>\n",
       "    <tr>\n",
       "      <th>1.20</th>\n",
       "      <td>0.000062</td>\n",
       "      <td>0.001389</td>\n",
       "      <td>6.56584</td>\n",
       "      <td>0.000247</td>\n",
       "      <td>0.000270</td>\n",
       "      <td>0.000248</td>\n",
       "      <td>0.000291</td>\n",
       "    </tr>\n",
       "    <tr>\n",
       "      <th rowspan=\"4\" valign=\"top\">0.2</th>\n",
       "      <th>0.10</th>\n",
       "      <td>0.009992</td>\n",
       "      <td>30.850524</td>\n",
       "      <td>972656.62277</td>\n",
       "      <td>0.039967</td>\n",
       "      <td>0.039992</td>\n",
       "      <td>0.041148</td>\n",
       "      <td>0.041536</td>\n",
       "    </tr>\n",
       "    <tr>\n",
       "      <th>0.20</th>\n",
       "      <td>0.002492</td>\n",
       "      <td>4.080052</td>\n",
       "      <td>120651.23939</td>\n",
       "      <td>0.009967</td>\n",
       "      <td>0.009992</td>\n",
       "      <td>0.010190</td>\n",
       "      <td>0.010394</td>\n",
       "    </tr>\n",
       "    <tr>\n",
       "      <th>0.40</th>\n",
       "      <td>0.000617</td>\n",
       "      <td>0.237925</td>\n",
       "      <td>5443.09103</td>\n",
       "      <td>0.002467</td>\n",
       "      <td>0.002492</td>\n",
       "      <td>0.002498</td>\n",
       "      <td>0.002610</td>\n",
       "    </tr>\n",
       "    <tr>\n",
       "      <th>0.80</th>\n",
       "      <td>0.000148</td>\n",
       "      <td>0.004939</td>\n",
       "      <td>24.49048</td>\n",
       "      <td>0.000593</td>\n",
       "      <td>0.000617</td>\n",
       "      <td>0.000595</td>\n",
       "      <td>0.000659</td>\n",
       "    </tr>\n",
       "    <tr>\n",
       "      <th rowspan=\"4\" valign=\"top\">0.1</th>\n",
       "      <th>0.05</th>\n",
       "      <td>0.039992</td>\n",
       "      <td>154.117700</td>\n",
       "      <td>4941829.34018</td>\n",
       "      <td>0.159967</td>\n",
       "      <td>0.159992</td>\n",
       "      <td>0.161191</td>\n",
       "      <td>0.161608</td>\n",
       "    </tr>\n",
       "    <tr>\n",
       "      <th>0.10</th>\n",
       "      <td>0.009992</td>\n",
       "      <td>20.613446</td>\n",
       "      <td>620584.58635</td>\n",
       "      <td>0.039967</td>\n",
       "      <td>0.039992</td>\n",
       "      <td>0.040201</td>\n",
       "      <td>0.040424</td>\n",
       "    </tr>\n",
       "    <tr>\n",
       "      <th>0.20</th>\n",
       "      <td>0.002492</td>\n",
       "      <td>1.255550</td>\n",
       "      <td>29356.68268</td>\n",
       "      <td>0.009967</td>\n",
       "      <td>0.009992</td>\n",
       "      <td>0.010000</td>\n",
       "      <td>0.010130</td>\n",
       "    </tr>\n",
       "    <tr>\n",
       "      <th>0.40</th>\n",
       "      <td>0.000617</td>\n",
       "      <td>0.030494</td>\n",
       "      <td>156.12292</td>\n",
       "      <td>0.002467</td>\n",
       "      <td>0.002492</td>\n",
       "      <td>0.002469</td>\n",
       "      <td>0.002560</td>\n",
       "    </tr>\n",
       "  </tbody>\n",
       "</table>\n",
       "</div>"
      ],
      "text/plain": [
       "            L-GRR(k=2)  L-GRR(k=32) L-GRR(k=$2^{10}$)    L-OSUE     L-SUE  \\\n",
       "perc eps_1                                                                  \n",
       "0.6  0.30     0.001103     0.980969       26706.64042  0.004411  0.004436   \n",
       "     0.60     0.000270     0.125036        3153.91118  0.001078  0.001103   \n",
       "     1.20     0.000062     0.006327         117.36989  0.000247  0.000270   \n",
       "     2.40     0.000011     0.000078           0.25903  0.000044  0.000062   \n",
       "0.5  0.25     0.001592     2.088372       60218.72092  0.006367  0.006392   \n",
       "     0.50     0.000392     0.268074        7198.83434  0.001567  0.001592   \n",
       "     1.00     0.000092     0.013926         281.04330  0.000368  0.000392   \n",
       "     2.00     0.000018     0.000188           0.74088  0.000072  0.000092   \n",
       "0.4  0.20     0.002492     4.530779      135874.24278  0.009967  0.009992   \n",
       "     0.40     0.000617     0.586823       16443.91803  0.002467  0.002492   \n",
       "     0.80     0.000148     0.031552         673.74545  0.000593  0.000617   \n",
       "     1.60     0.000032     0.000484           2.12772  0.000127  0.000148   \n",
       "0.3  0.15     0.004436    10.689842      329836.44067  0.017744  0.017769   \n",
       "     0.30     0.001103     1.398568       40412.79198  0.004411  0.004436   \n",
       "     0.60     0.000270     0.078202        1737.75675  0.001078  0.001103   \n",
       "     1.20     0.000062     0.001389           6.56584  0.000247  0.000270   \n",
       "0.2  0.10     0.009992    30.850524      972656.62277  0.039967  0.039992   \n",
       "     0.20     0.002492     4.080052      120651.23939  0.009967  0.009992   \n",
       "     0.40     0.000617     0.237925        5443.09103  0.002467  0.002492   \n",
       "     0.80     0.000148     0.004939          24.49048  0.000593  0.000617   \n",
       "0.1  0.05     0.039992   154.117700     4941829.34018  0.159967  0.159992   \n",
       "     0.10     0.009992    20.613446      620584.58635  0.039967  0.039992   \n",
       "     0.20     0.002492     1.255550       29356.68268  0.009967  0.009992   \n",
       "     0.40     0.000617     0.030494         156.12292  0.002467  0.002492   \n",
       "\n",
       "              L-SOUE     L-OUE  \n",
       "perc eps_1                      \n",
       "0.6  0.30   0.005306  0.005549  \n",
       "     0.60   0.001234  0.001347  \n",
       "     1.20   0.000264  0.000310  \n",
       "     2.40   0.000045  0.000057  \n",
       "0.5  0.25   0.007336  0.007611  \n",
       "     0.50   0.001740  0.001872  \n",
       "     1.00   0.000389  0.000447  \n",
       "     2.00   0.000073  0.000092  \n",
       "0.4  0.20   0.011012  0.011324  \n",
       "     0.40   0.002658  0.002812  \n",
       "     0.80   0.000617  0.000690  \n",
       "     1.60   0.000128  0.000156  \n",
       "0.3  0.15   0.018863  0.019214  \n",
       "     0.30   0.004620  0.004799  \n",
       "     0.60   0.001106  0.001198  \n",
       "     1.20   0.000248  0.000291  \n",
       "0.2  0.10   0.041148  0.041536  \n",
       "     0.20   0.010190  0.010394  \n",
       "     0.40   0.002498  0.002610  \n",
       "     0.80   0.000595  0.000659  \n",
       "0.1  0.05   0.161191  0.161608  \n",
       "     0.10   0.040201  0.040424  \n",
       "     0.20   0.010000  0.010130  \n",
       "     0.40   0.002469  0.002560  "
      ]
     },
     "execution_count": 81,
     "metadata": {},
     "output_type": "execute_result"
    }
   ],
   "source": [
    "df_var = pd.concat([pd.DataFrame(dic_var[perc]) for perc in lst_perc])\n",
    "df_var.columns = ['L-GRR(k=2)', 'L-GRR(k=32)', 'L-GRR(k=$2^{10}$)', 'L-OSUE', 'L-SUE', 'L-SOUE', 'L-OUE']\n",
    "df_var['L-GRR(k=$2^{10}$)'] = df_var['L-GRR(k=$2^{10}$)'].apply(lambda x: '%.5f' % x)\n",
    "df_var['perc'] = [cons for cons in lst_perc for _ in range(4)]\n",
    "df_var['eps_1'] = np.array([list(val * np.array(lst_eps)) for val in lst_perc]).reshape(-1)\n",
    "df_var.set_index(['perc','eps_1'], inplace=True)\n",
    "df_var"
   ]
  },
  {
   "cell_type": "markdown",
   "metadata": {},
   "source": [
    "## Figure paper"
   ]
  },
  {
   "cell_type": "code",
   "execution_count": 82,
   "metadata": {},
   "outputs": [],
   "source": [
    "# upper bound, i.e., eps_inf\n",
    "lst_eps = np.arange(0.5, 4.1, 0.5)\n",
    "\n",
    "#percentage for selecting lower bound, i.e., e1 = perc * eps_inf\n",
    "lst_perc = [0.3, 0.6]\n",
    "\n",
    "var_l_oue = {perc:[] for perc in lst_perc}\n",
    "var_l_sue = {perc:[] for perc in lst_perc}\n",
    "var_l_osue = {perc:[] for perc in lst_perc}\n",
    "var_l_soue = {perc:[] for perc in lst_perc}\n",
    "\n",
    "for perc_inst in lst_perc:                    \n",
    "    \n",
    "    for eps_perm in lst_eps:    \n",
    "        eps_1 = round(perc_inst * eps_perm, 4)\n",
    "        \n",
    "        # L-OUE\n",
    "        p1,q1,p2,q2 = param_L_OUE(eps_perm,eps_1)  \n",
    "        var_l_oue[perc_inst].append(Var_f_L(p1,q1,p2,q2))\n",
    "\n",
    "        # L-SUE\n",
    "        p1,q1,p2,q2 = param_L_SUE(eps_perm,eps_1)\n",
    "        var_l_sue[perc_inst].append(Var_f_L(p1,q1,p2,q2))\n",
    "        \n",
    "        # L-OSUE\n",
    "        p1,q1,p2,q2 = param_L_OSUE(eps_perm,eps_1)\n",
    "        var_l_osue[perc_inst].append(Var_f_L(p1,q1,p2,q2))\n",
    "        \n",
    "        # L-SOUE\n",
    "        p1,q1,p2,q2 = param_L_SOUE(eps_perm,eps_1)\n",
    "        var_l_soue[perc_inst].append(Var_f_L(p1,q1,p2,q2))"
   ]
  },
  {
   "cell_type": "markdown",
   "metadata": {},
   "source": [
    "## Visualization"
   ]
  },
  {
   "cell_type": "code",
   "execution_count": 83,
   "metadata": {},
   "outputs": [
    {
     "data": {
      "image/png": "[encoded data removed]",
      "text/plain": [
       "<Figure size 1800x600 with 2 Axes>"
      ]
     },
     "metadata": {},
     "output_type": "display_data"
    }
   ],
   "source": [
    "fig = plt.figure(figsize=(18, 6))\n",
    "grid = plt.GridSpec(1, 2, wspace=0.13, hspace=0.2)\n",
    "\n",
    "f1 = fig.add_subplot(grid[0])\n",
    "f2 = fig.add_subplot(grid[1])\n",
    "\n",
    "plots = [f1, f2]\n",
    "\n",
    "markers = ['D', 'd', '>', 's', 'o', '*', 'x', 'X', '.']\n",
    "linestyles = ['solid', 'dashed', 'dotted', 'dashdot', (0, (5, 10)), (0, (3, 10, 1, 10))]\n",
    "\n",
    "fig_idx = 0\n",
    "\n",
    "for perc_inst in lst_perc:\n",
    "\n",
    "    plots[fig_idx].plot(var_l_osue[perc_inst],label='L-OSUE', marker='>', linestyle='solid')\n",
    "    plots[fig_idx].plot(var_l_soue[perc_inst],label='L-SOUE', marker='s', linestyle='dashdot')\n",
    "    plots[fig_idx].plot(var_l_sue[perc_inst],label='L-SUE', marker='d', linestyle='dashed')\n",
    "    plots[fig_idx].plot(var_l_oue[perc_inst],label='L-OUE', marker='D', linestyle='dotted')\n",
    "    \n",
    "    \n",
    "    plots[fig_idx].set_yscale('log')\n",
    "    plots[fig_idx].set_xticks(range(len(lst_eps)))\n",
    "    plots[fig_idx].set_xticklabels([round(val,4) for val in lst_eps])\n",
    "    plots[fig_idx].set_ylabel('var', fontsize=16)\n",
    "    plots[fig_idx].set_xlabel(\"$\\epsilon_{\\infty}$\", fontsize=16)\n",
    "    plots[fig_idx].legend(title='$\\epsilon_1$ $=$' +f'${perc_inst}$'+ '$\\epsilon_{\\infty}$',\\\n",
    "                            prop=dict(weight='normal'),fontsize=14,loc='upper right')\n",
    "    \n",
    "    \n",
    "    plots[fig_idx].grid(color='grey', linestyle='--', linewidth=0.5)\n",
    "    fig_idx+=1\n",
    "\n",
    "plt.show();"
   ]
  },
  {
   "cell_type": "markdown",
   "metadata": {},
   "source": [
    "#### Conclusion"
   ]
  },
  {
   "cell_type": "markdown",
   "metadata": {},
   "source": [
    "L-OSUE provides smaller variance values than the state of the art L-SUE (i.e., basic-rappor) and L-OUE (i.e., OUE with memoization)"
   ]
  },
  {
   "cell_type": "code",
   "execution_count": 84,
   "metadata": {},
   "outputs": [
    {
     "data": {
      "text/plain": [
       "(True, True)"
      ]
     },
     "execution_count": 84,
     "metadata": {},
     "output_type": "execute_result"
    }
   ],
   "source": [
    "var_l_osue[0.3] < var_l_sue[0.3], var_l_osue[0.3] < var_l_oue[0.3]"
   ]
  },
  {
   "cell_type": "code",
   "execution_count": 85,
   "metadata": {},
   "outputs": [
    {
     "data": {
      "text/plain": [
       "(True, True)"
      ]
     },
     "execution_count": 85,
     "metadata": {},
     "output_type": "execute_result"
    }
   ],
   "source": [
    "var_l_osue[0.6] < var_l_sue[0.6], var_l_osue[0.6] < var_l_oue[0.6]"
   ]
  },
  {
   "cell_type": "code",
   "execution_count": null,
   "metadata": {},
   "outputs": [],
   "source": []
  }
 ],
 "metadata": {
  "kernelspec": {
   "display_name": "Python 3.10.8 64-bit",
   "language": "python",
   "name": "python3"
  },
  "language_info": {
   "codemirror_mode": {
    "name": "ipython",
    "version": 3
   },
   "file_extension": ".py",
   "mimetype": "text/x-python",
   "name": "python",
   "nbconvert_exporter": "python",
   "pygments_lexer": "ipython3",
   "version": "3.10.8"
  },
  "vscode": {
   "interpreter": {
    "hash": "aee8b7b246df8f9039afb4144a1f6fd8d2ca17a180786b69acc140d282b71a49"
   }
  }
 },
 "nbformat": 4,
 "nbformat_minor": 4
}
